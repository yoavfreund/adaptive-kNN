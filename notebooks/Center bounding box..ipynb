{
 "cells": [
  {
   "cell_type": "code",
   "execution_count": 1,
   "metadata": {
    "ExecuteTime": {
     "end_time": "2019-04-24T02:54:31.307174Z",
     "start_time": "2019-04-24T02:54:30.330792Z"
    }
   },
   "outputs": [
    {
     "name": "stdout",
     "output_type": "stream",
     "text": [
      "Populating the interactive namespace from numpy and matplotlib\n"
     ]
    }
   ],
   "source": [
    "%pylab inline\n",
    "import mnist\n",
    "import cv2\n",
    "\n",
    "def recast(x):\n",
    "    return np.array(x,dtype=np.float32)\n",
    "train_images = recast(mnist.train_images())\n",
    "train_labels = mnist.train_labels()\n",
    "test_images = recast(mnist.test_images())\n",
    "test_labels = mnist.test_labels()"
   ]
  },
  {
   "cell_type": "code",
   "execution_count": 5,
   "metadata": {
    "ExecuteTime": {
     "end_time": "2019-04-24T02:55:04.667334Z",
     "start_time": "2019-04-24T02:55:04.662347Z"
    }
   },
   "outputs": [],
   "source": [
    "size=28\n",
    "def find_shift(image,axis=0):\n",
    "    x=sum(image,axis=axis)\n",
    "    nz=np.nonzero(x)[0]\n",
    "    a=nz[0];b=size-nz[-1]-1\n",
    "    #print(a,b)\n",
    "    return (b-a)/2.\n",
    "\n",
    "def center_image(image):\n",
    "    s0=find_shift(image,0)  #left-right\n",
    "    s1=find_shift(image,1)  #up-down\n",
    "    translation_matrix = np.float32([ [1,0,s0], [0,1,s1] ])\n",
    "    nimage = cv2.warpAffine(image, translation_matrix, (size,size))\n",
    "    return nimage\n"
   ]
  },
  {
   "cell_type": "code",
   "execution_count": 7,
   "metadata": {
    "ExecuteTime": {
     "end_time": "2019-04-24T02:55:25.484848Z",
     "start_time": "2019-04-24T02:55:25.477377Z"
    }
   },
   "outputs": [
    {
     "name": "stdout",
     "output_type": "stream",
     "text": [
      "0.0 -1.0  \t0.0 0.0\n",
      "-0.5 0.0  \t0.0 0.0\n",
      "1.0 -1.0  \t0.0 0.0\n",
      "-1.0 -1.0  \t0.0 0.0\n",
      "0.5 -3.0  \t0.0 0.0\n",
      "-1.0 0.0  \t0.0 0.0\n",
      "-1.0 0.0  \t0.0 0.0\n",
      "0.0 -1.0  \t0.0 0.0\n",
      "-0.5 -1.0  \t0.0 0.0\n",
      "-1.0 0.0  \t0.0 0.0\n"
     ]
    }
   ],
   "source": [
    "for index in range(10):\n",
    "    image=train_images[index]\n",
    "    print(find_shift(image,0),find_shift(image,1), end='  \\t')\n",
    "    nimage=center_image(image)\n",
    "    print(find_shift(nimage,0),find_shift(nimage,1))"
   ]
  },
  {
   "cell_type": "code",
   "execution_count": 9,
   "metadata": {
    "ExecuteTime": {
     "end_time": "2019-04-24T02:58:20.725385Z",
     "start_time": "2019-04-24T02:58:16.691588Z"
    }
   },
   "outputs": [],
   "source": [
    "centered_train_images=[]\n",
    "for image in train_images:\n",
    "    nimage=center_image(image)\n",
    "    centered_train_images.append(nimage)\n",
    "    s0=find_shift(nimage,0)\n",
    "    s1=find_shift(nimage,1)\n",
    "    if s0 !=0 or s1 != 0:\n",
    "        print(s0,s1)\n",
    "        break"
   ]
  },
  {
   "cell_type": "code",
   "execution_count": 12,
   "metadata": {
    "ExecuteTime": {
     "end_time": "2019-04-24T03:00:20.741580Z",
     "start_time": "2019-04-24T03:00:20.042772Z"
    }
   },
   "outputs": [],
   "source": [
    "centered_test_images=[]\n",
    "for image in test_images:\n",
    "    nimage=center_image(image)\n",
    "    centered_test_images.append(nimage)\n",
    "    s0=find_shift(nimage,0)\n",
    "    s1=find_shift(nimage,1)\n",
    "    if s0 !=0 or s1 != 0:\n",
    "        print(s0,s1)\n",
    "        break"
   ]
  },
  {
   "cell_type": "code",
   "execution_count": 13,
   "metadata": {
    "ExecuteTime": {
     "end_time": "2019-04-24T03:00:32.202119Z",
     "start_time": "2019-04-24T03:00:32.041225Z"
    }
   },
   "outputs": [
    {
     "data": {
      "text/plain": [
       "<matplotlib.image.AxesImage at 0x10f53de80>"
      ]
     },
     "execution_count": 13,
     "metadata": {},
     "output_type": "execute_result"
    },
    {
     "data": {
      "image/png": "[encoded data removed]",
      "text/plain": [
       "<Figure size 432x288 with 1 Axes>"
      ]
     },
     "metadata": {
      "needs_background": "light"
     },
     "output_type": "display_data"
    }
   ],
   "source": [
    "imshow(centered_test_images[100],cmap='gray')"
   ]
  },
  {
   "cell_type": "code",
   "execution_count": 16,
   "metadata": {
    "ExecuteTime": {
     "end_time": "2019-04-24T03:05:02.620946Z",
     "start_time": "2019-04-24T03:05:01.395668Z"
    }
   },
   "outputs": [],
   "source": [
    "import pickle as pk\n",
    "with open('centered_data.pkl','wb') as pkfile:\n",
    "    pk.dump({'train_images':centered_train_images,\n",
    "             'train_labels':train_labels,\n",
    "             'test_images':centered_test_images,\n",
    "             'test_labels':test_labels},pkfile)"
   ]
  },
  {
   "cell_type": "code",
   "execution_count": 17,
   "metadata": {
    "ExecuteTime": {
     "end_time": "2019-04-24T03:05:10.104270Z",
     "start_time": "2019-04-24T03:05:09.961931Z"
    }
   },
   "outputs": [
    {
     "name": "stdout",
     "output_type": "stream",
     "text": [
      "total 1717576\r\n",
      "-rw-r--r--@ 1 yoavfreund  staff    7840016 Apr  5 17:07 t10k-images-idx3-ubyte\r\n",
      "-rw-r--r--@ 1 yoavfreund  staff      10008 Apr  5 17:07 t10k-labels-idx1-ubyte\r\n",
      "-rw-r--r--@ 1 yoavfreund  staff   47040016 Apr  5 17:07 train-images-idx3-ubyte\r\n",
      "-rw-r--r--@ 1 yoavfreund  staff      60008 Apr  5 17:07 train-labels-idx1-ubyte\r\n",
      "-rw-r--r--  1 yoavfreund  staff  600579404 Apr  7 10:24 labels.pkl\r\n",
      "-rw-r--r--  1 yoavfreund  staff      54964 Apr 23 18:02 computing NN.ipynb\r\n",
      "-rw-r--r--  1 yoavfreund  staff      62422 Apr 23 18:07 prep_label_lists.ipynb\r\n",
      "-rw-r--r--  1 yoavfreund  staff      11871 Apr 23 20:04 Center bounding box..ipynb\r\n",
      "-rw-r--r--  1 yoavfreund  staff  223719807 Apr 23 20:05 centered_data.pkl\r\n"
     ]
    }
   ],
   "source": [
    "!ls -lrt"
   ]
  },
  {
   "cell_type": "code",
   "execution_count": null,
   "metadata": {},
   "outputs": [],
   "source": []
  }
 ],
 "metadata": {
  "hide_input": false,
  "kernelspec": {
   "display_name": "Python 3",
   "language": "python",
   "name": "python3"
  },
  "language_info": {
   "codemirror_mode": {
    "name": "ipython",
    "version": 3
   },
   "file_extension": ".py",
   "mimetype": "text/x-python",
   "name": "python",
   "nbconvert_exporter": "python",
   "pygments_lexer": "ipython3",
   "version": "3.7.2"
  },
  "toc": {
   "base_numbering": 1,
   "nav_menu": {},
   "number_sections": true,
   "sideBar": true,
   "skip_h1_title": false,
   "title_cell": "Table of Contents",
   "title_sidebar": "Contents",
   "toc_cell": false,
   "toc_position": {},
   "toc_section_display": true,
   "toc_window_display": false
  }
 },
 "nbformat": 4,
 "nbformat_minor": 2
}
