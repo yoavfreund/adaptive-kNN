{
 "cells": [
  {
   "cell_type": "code",
   "execution_count": 1,
   "metadata": {
    "ExecuteTime": {
     "end_time": "2019-04-30T23:58:22.734796Z",
     "start_time": "2019-04-30T23:58:22.298169Z"
    }
   },
   "outputs": [
    {
     "name": "stdout",
     "output_type": "stream",
     "text": [
      "Populating the interactive namespace from numpy and matplotlib\n"
     ]
    }
   ],
   "source": [
    "%pylab inline\n",
    "import pickle as pk"
   ]
  },
  {
   "cell_type": "code",
   "execution_count": 2,
   "metadata": {
    "ExecuteTime": {
     "end_time": "2019-04-30T23:58:22.738718Z",
     "start_time": "2019-04-30T23:58:22.736227Z"
    }
   },
   "outputs": [],
   "source": [
    "#labels is the labels or the neighbors of a test point\n",
    "#It consists of a list of 1000 arrays each corresponding to one test examples\n",
    "# each array contains 60000 elements which are the labels of the 60000 trainining examples sorted by increasing \n",
    "# distance to the test example.\n",
    "\n",
    "# with open('labels.pkl','br') as pklfile:\n",
    "#     labels=pk.load(pklfile)\n",
    "# len(labels), labels[0].shape"
   ]
  },
  {
   "cell_type": "code",
   "execution_count": 3,
   "metadata": {
    "ExecuteTime": {
     "end_time": "2019-04-30T23:58:22.878523Z",
     "start_time": "2019-04-30T23:58:22.741708Z"
    }
   },
   "outputs": [
    {
     "name": "stdout",
     "output_type": "stream",
     "text": [
      "-rw-r--r--  1 yoavfreund  staff   1.1G Apr 26 22:01 IndexByDistance.npz\r\n"
     ]
    }
   ],
   "source": [
    "!ls -lrth *.npz"
   ]
  },
  {
   "cell_type": "code",
   "execution_count": 4,
   "metadata": {
    "ExecuteTime": {
     "end_time": "2019-04-30T23:58:26.506568Z",
     "start_time": "2019-04-30T23:58:22.883410Z"
    },
    "scrolled": true
   },
   "outputs": [],
   "source": [
    "X=np.load('IndexByDistance.npz')\n",
    "indicesByDistance=X['a']"
   ]
  },
  {
   "cell_type": "code",
   "execution_count": 5,
   "metadata": {
    "ExecuteTime": {
     "end_time": "2019-04-30T23:58:34.117805Z",
     "start_time": "2019-04-30T23:58:26.509762Z"
    }
   },
   "outputs": [],
   "source": [
    "import mnist\n",
    "\n",
    "def recast(x):\n",
    "    return np.array(x,dtype=np.float32)\n",
    "train_images = recast(mnist.train_images())\n",
    "train_labels = mnist.train_labels()\n",
    "test_images = recast(mnist.test_images())\n",
    "test_labels = mnist.test_labels()"
   ]
  },
  {
   "cell_type": "code",
   "execution_count": 6,
   "metadata": {
    "ExecuteTime": {
     "end_time": "2019-04-30T23:58:36.777487Z",
     "start_time": "2019-04-30T23:58:34.119820Z"
    }
   },
   "outputs": [],
   "source": [
    "labels=train_labels[indicesByDistance]"
   ]
  },
  {
   "cell_type": "code",
   "execution_count": 86,
   "metadata": {
    "ExecuteTime": {
     "end_time": "2019-05-01T01:04:29.168940Z",
     "start_time": "2019-05-01T01:04:17.164426Z"
    }
   },
   "outputs": [],
   "source": [
    "p=0.8\n",
    "random=np.random.choice(10,indicesByDistance.shape)"
   ]
  },
  {
   "cell_type": "code",
   "execution_count": 87,
   "metadata": {
    "ExecuteTime": {
     "end_time": "2019-05-01T01:05:01.737523Z",
     "start_time": "2019-05-01T01:04:29.176486Z"
    }
   },
   "outputs": [],
   "source": [
    "combined=np.dstack((labels,random))"
   ]
  },
  {
   "cell_type": "code",
   "execution_count": 88,
   "metadata": {
    "ExecuteTime": {
     "end_time": "2019-05-01T01:05:01.768419Z",
     "start_time": "2019-05-01T01:05:01.747256Z"
    }
   },
   "outputs": [
    {
     "data": {
      "text/plain": [
       "(10000, 60000, 2)"
      ]
     },
     "execution_count": 88,
     "metadata": {},
     "output_type": "execute_result"
    }
   ],
   "source": [
    "combined.shape"
   ]
  },
  {
   "cell_type": "code",
   "execution_count": 89,
   "metadata": {
    "ExecuteTime": {
     "end_time": "2019-05-01T01:06:03.310054Z",
     "start_time": "2019-05-01T01:05:01.779953Z"
    }
   },
   "outputs": [
    {
     "data": {
      "text/plain": [
       "(10000, 60000, 2)"
      ]
     },
     "execution_count": 89,
     "metadata": {},
     "output_type": "execute_result"
    }
   ],
   "source": [
    "selector=np.random.binomial(1,p,random.shape)\n",
    "sel=np.dstack([1-selector,selector])\n",
    "sel.shape"
   ]
  },
  {
   "cell_type": "code",
   "execution_count": 90,
   "metadata": {
    "ExecuteTime": {
     "end_time": "2019-05-01T01:07:23.915384Z",
     "start_time": "2019-05-01T01:06:03.317791Z"
    }
   },
   "outputs": [
    {
     "data": {
      "text/plain": [
       "(10000, 60000)"
      ]
     },
     "execution_count": 90,
     "metadata": {},
     "output_type": "execute_result"
    }
   ],
   "source": [
    "noisy_labels=sum(combined*sel,axis=2)\n",
    "noisy_labels.shape"
   ]
  },
  {
   "cell_type": "code",
   "execution_count": 91,
   "metadata": {
    "ExecuteTime": {
     "end_time": "2019-05-01T01:07:23.946651Z",
     "start_time": "2019-05-01T01:07:23.924311Z"
    },
    "scrolled": true
   },
   "outputs": [
    {
     "data": {
      "text/plain": [
       "array([[5, 2, 1, 7, 7, 9, 0],\n",
       "       [5, 1, 5, 2, 8, 2, 2],\n",
       "       [4, 0, 7, 2, 9, 7, 3],\n",
       "       [6, 9, 7, 0, 3, 9, 2],\n",
       "       [7, 9, 4, 5, 0, 7, 4],\n",
       "       [1, 7, 4, 2, 0, 1, 1],\n",
       "       [5, 8, 7, 0, 8, 8, 6],\n",
       "       [6, 7, 3, 0, 8, 2, 5],\n",
       "       [8, 5, 5, 3, 3, 5, 8],\n",
       "       [1, 4, 8, 3, 8, 7, 8]])"
      ]
     },
     "execution_count": 91,
     "metadata": {},
     "output_type": "execute_result"
    }
   ],
   "source": [
    "noisy_labels[:10,:7]"
   ]
  },
  {
   "cell_type": "code",
   "execution_count": 92,
   "metadata": {
    "ExecuteTime": {
     "end_time": "2019-05-01T01:07:29.348788Z",
     "start_time": "2019-05-01T01:07:29.344898Z"
    }
   },
   "outputs": [],
   "source": [
    "labels=noisy_labels"
   ]
  },
  {
   "cell_type": "code",
   "execution_count": 93,
   "metadata": {
    "ExecuteTime": {
     "end_time": "2019-05-01T01:07:30.276801Z",
     "start_time": "2019-05-01T01:07:30.254040Z"
    }
   },
   "outputs": [
    {
     "data": {
      "text/plain": [
       "(array([1, 1]), array([3, 7]))"
      ]
     },
     "execution_count": 93,
     "metadata": {},
     "output_type": "execute_result"
    }
   ],
   "source": [
    "X=np.array([[1,3,2],[1,7,1]])\n",
    "argmax(X,axis=1),np.max(X,axis=1)"
   ]
  },
  {
   "cell_type": "code",
   "execution_count": 102,
   "metadata": {
    "ExecuteTime": {
     "end_time": "2019-05-01T01:09:40.339183Z",
     "start_time": "2019-05-01T01:09:40.333722Z"
    }
   },
   "outputs": [],
   "source": [
    "_range=1000\n",
    "\n",
    "def find_sig(S,thr=5):\n",
    "    \"\"\" S is a matrix of 10 X _range.\n",
    "    entry S[i,j] is the significance associated with label i when considering j nearset neighbors.\n",
    "    Find the first entry of x that is larger than thr.\n",
    "    returns predicted_label,stopping_time\n",
    "    \"\"\"\n",
    "    f=[]\n",
    "    stopping_time=_range\n",
    "    for i in range(10):\n",
    "        f=np.nonzero(S[i,:]>thr)[0]\n",
    "        if f.shape[0]>0:\n",
    "            f=f[0]\n",
    "            if stopping_time > f:\n",
    "                stopping_time=f\n",
    "                predicted_label=i\n",
    "    if stopping_time<_range:\n",
    "        return predicted_label,stopping_time\n",
    "    # did not find anything with significance > thr, then take the one with highest significance\n",
    "    _argmax=np.argmax(S,axis=1)\n",
    "    _max = np.max(S,axis=1)\n",
    "    predicted_label = np.argmax(_max)\n",
    "    stopping_time = _argmax[predicted_label]\n",
    "    #print(stopping_time)\n",
    "    return predicted_label,stopping_time\n",
    "            \n",
    "    "
   ]
  },
  {
   "cell_type": "code",
   "execution_count": 103,
   "metadata": {
    "ExecuteTime": {
     "end_time": "2019-05-01T01:09:41.450342Z",
     "start_time": "2019-05-01T01:09:41.445920Z"
    }
   },
   "outputs": [],
   "source": [
    "from collections import Counter\n",
    "def find_label_knn(test_index,k=5):\n",
    "    L=labels[test_index]\n",
    "    C=list(Counter(L[:k]).items())\n",
    "    S=sorted(C,key=lambda x:x[1],reverse=True)\n",
    "    return np.array(S).transpose()"
   ]
  },
  {
   "cell_type": "code",
   "execution_count": 104,
   "metadata": {
    "ExecuteTime": {
     "end_time": "2019-05-01T01:09:43.413170Z",
     "start_time": "2019-05-01T01:09:43.406537Z"
    }
   },
   "outputs": [],
   "source": [
    "def find_label_adaptive(test_index,thr=4):\n",
    "    \"\"\"Find label of test example test_index using adaptive k NN\"\"\"\n",
    "    C=[]\n",
    "    sig=[]\n",
    "    P=np.zeros([10,_range])\n",
    "    L=labels[test_index]\n",
    "    scale=arange(1,_range+1,1)\n",
    "    for i in range(10):\n",
    "        C.append(np.cumsum(L==i))\n",
    "        P[i,:]=(C[-1][:_range]-(scale/10))/sqrt(scale)\n",
    "    predicted_label,stopping_time = find_sig(P,thr=thr)\n",
    "    sigs_at_stop = P[:,stopping_time]\n",
    "    I=argsort(sigs_at_stop)\n",
    "    Sigs=sigs_at_stop[I]\n",
    "    prediction=np.array([I[Sigs>0],Sigs[Sigs>0]],dtype=np.int16)\n",
    "    return prediction[:,-1::-1]"
   ]
  },
  {
   "cell_type": "code",
   "execution_count": 111,
   "metadata": {
    "ExecuteTime": {
     "end_time": "2019-05-01T01:13:15.152991Z",
     "start_time": "2019-05-01T01:13:15.143154Z"
    }
   },
   "outputs": [],
   "source": [
    "def compute_errs(method=\"adaptive\",**kwargs):\n",
    "    errs=np.zeros([4,11])\n",
    "    n=test_labels.shape[0]\n",
    "    for i in range(n):\n",
    "        if method=='adaptive':\n",
    "            pred_label=find_label_adaptive(i,**kwargs)\n",
    "        else:\n",
    "            pred_label=find_label_knn(i,**kwargs)\n",
    "\n",
    "        prediction=int(pred_label[0,0])\n",
    "        err = 0 #prediction error\n",
    "        labelSet=set(pred_label[0,:])\n",
    "        if prediction != test_labels[i]:\n",
    "            err=1 # incorrect prediction\n",
    "        if test_labels[i] in labelSet:\n",
    "            err+=2 # prediction in prediction set\n",
    "        multi=pred_label.shape[1]\n",
    "        if prediction==-1:\n",
    "            multi=0\n",
    "            err=1\n",
    "        errs[err,multi]+=1\n",
    "        if i%100==0:\n",
    "            print('\\r',i,end='')\n",
    "    errs=np.array(errs,dtype=np.int16)\n",
    "    print()       \n",
    "    \n",
    "    cr_sums=np.sum(errs,axis=1)\n",
    "    print('size of set total',''.join([\"%5d\"%x for x in range(11)]))\n",
    "    print('total      %6d'%np.sum(cr_sums),''.join([\"%5d\"%x for x in np.sum(errs,axis=0)]))\n",
    "    print('incorrect  %6d'%np.sum(cr_sums[[0,1,3]]),''.join([\"%5d\"%x for x in np.sum(errs,axis=0)-errs[2,:]]))\n",
    "    #print('in set     ',''.join([\"%6d\"%x for x in errs[2,:]+errs[3,:]]))\n",
    "    print('not in set %6d'%np.sum(cr_sums[[0,1]]),''.join([\"%5d\"%x for x in errs[0,:]+errs[1,:]]))\n",
    " "
   ]
  },
  {
   "cell_type": "code",
   "execution_count": 112,
   "metadata": {
    "ExecuteTime": {
     "end_time": "2019-05-01T01:13:22.221369Z",
     "start_time": "2019-05-01T01:13:20.574916Z"
    }
   },
   "outputs": [
    {
     "name": "stdout",
     "output_type": "stream",
     "text": [
      "======================================== knn with k= 1\n",
      " 9900\n",
      "size of set total     0    1    2    3    4    5    6    7    8    9   10\n",
      "total       10000     010000    0    0    0    0    0    0    0    0    0\n",
      "incorrect    7834     0 7834    0    0    0    0    0    0    0    0    0\n",
      "not in set   7834     0 7834    0    0    0    0    0    0    0    0    0\n",
      "======================================== knn with k= 2\n",
      " 9900\n",
      "size of set total     0    1    2    3    4    5    6    7    8    9   10\n",
      "total       10000     0 1187 8813    0    0    0    0    0    0    0    0\n",
      "incorrect    7834     0  677 7157    0    0    0    0    0    0    0    0\n",
      "not in set   6123     0  677 5446    0    0    0    0    0    0    0    0\n",
      "======================================== knn with k= 3\n",
      " 9900\n",
      "size of set total     0    1    2    3    4    5    6    7    8    9   10\n",
      "total       10000     0  162 2951 6887    0    0    0    0    0    0    0\n",
      "incorrect    7601     0   47 1830 5724    0    0    0    0    0    0    0\n",
      "not in set   4710     0   47 1374 3289    0    0    0    0    0    0    0\n",
      "======================================== knn with k= 4\n",
      " 99003400\n",
      "size of set total     0    1    2    3    4    5    6    7    8    9   10\n",
      "total       10000     0   29  835 4546 4590    0    0    0    0    0    0\n",
      "incorrect    7270     0    2  424 2931 3913    0    0    0    0    0    0\n",
      "not in set   3659     0    2  277 1698 1682    0    0    0    0    0    0\n",
      "======================================== knn with k= 5\n",
      " 9900\n",
      "size of set total     0    1    2    3    4    5    6    7    8    9   10\n",
      "total       10000     0    6  222 2192 4977 2603    0    0    0    0    0\n",
      "incorrect    6954     0    0   64 1273 3356 2261    0    0    0    0    0\n",
      "not in set   2830     0    0   42  628 1415  745    0    0    0    0    0\n",
      "======================================== knn with k= 6\n",
      " 9900\n",
      "size of set total     0    1    2    3    4    5    6    7    8    9   10\n",
      "total       10000     0    1   75  947 3600 4142 1235    0    0    0    0\n",
      "incorrect    6709     0    0   20  426 2299 2877 1087    0    0    0    0\n",
      "not in set   2220     0    0   12  184  854  916  254    0    0    0    0\n",
      "======================================== knn with k= 7\n",
      " 9900\n",
      "size of set total     0    1    2    3    4    5    6    7    8    9   10\n",
      "total       10000     0    0   20  425 2159 4195 2742  459    0    0    0\n",
      "incorrect    6452     0    0    4  158 1146 2803 1936  405    0    0    0\n",
      "not in set   1742     0    0    2   63  375  763  472   67    0    0    0\n",
      "======================================== knn with k= 8\n",
      " 99005100\n",
      "size of set total     0    1    2    3    4    5    6    7    8    9   10\n",
      "total       10000     0    0    4  174 1242 3480 3586 1374  140    0    0\n",
      "incorrect    6281     0    0    1   56  574 2043 2488  995  124    0    0\n",
      "not in set   1372     0    0    1   16  177  499  503  166   10    0    0\n",
      "======================================== knn with k= 9\n",
      " 9900\n",
      "size of set total     0    1    2    3    4    5    6    7    8    9   10\n",
      "total       10000     0    0    1   63  680 2565 3793 2359  506   33    0\n",
      "incorrect    6093     0    0    0   20  277 1328 2381 1684  375   28    0\n",
      "not in set   1077     0    0    0    8   67  295  428  249   29    1    0\n",
      "======================================== knn with k= 10\n",
      " 9900\n",
      "size of set total     0    1    2    3    4    5    6    7    8    9   10\n",
      "total       10000     0    0    1   23  369 1766 3488 3164 1083  103    3\n",
      "incorrect    5925     0    0    0    5  128  836 1966 2105  801   81    3\n",
      "not in set    863     0    0    0    2   29  172  323  254   81    2    0\n"
     ]
    }
   ],
   "source": [
    "for k in range(1,11):\n",
    "    print('='*40,'knn with k=',k)\n",
    "    errs=compute_errs('knn',k=k)"
   ]
  },
  {
   "cell_type": "code",
   "execution_count": 113,
   "metadata": {
    "ExecuteTime": {
     "end_time": "2019-05-01T01:13:27.680534Z",
     "start_time": "2019-05-01T01:13:25.054000Z"
    }
   },
   "outputs": [
    {
     "name": "stdout",
     "output_type": "stream",
     "text": [
      "======================================== knn with k= 10\n",
      " 9900\n",
      "size of set total     0    1    2    3    4    5    6    7    8    9   10\n",
      "total       10000     0    0    1   23  369 1766 3488 3164 1083  103    3\n",
      "incorrect    5925     0    0    0    5  128  836 1966 2105  801   81    3\n",
      "not in set    863     0    0    0    2   29  172  323  254   81    2    0\n",
      "======================================== knn with k= 20\n",
      " 9900\n",
      "size of set total     0    1    2    3    4    5    6    7    8    9   10\n",
      "total       10000     0    0    0    0    0   11  179 1157 3203 3954 1496\n",
      "incorrect    4504     0    0    0    0    0    3   45  421 1328 1901  806\n",
      "not in set     88     0    0    0    0    0    0    3   15   39   31    0\n",
      "======================================== knn with k= 30\n",
      " 9900\n",
      "size of set total     0    1    2    3    4    5    6    7    8    9   10\n",
      "total       10000     0    0    0    0    0    0    3   94  895 3783 5225\n",
      "incorrect    3512     0    0    0    0    0    0    0   22  247 1279 1964\n",
      "not in set     18     0    0    0    0    0    0    0    1    3   14    0\n",
      "======================================== knn with k= 40\n",
      " 9900\n",
      "size of set total     0    1    2    3    4    5    6    7    8    9   10\n",
      "total       10000     0    0    0    0    0    0    0    5  161 2022 7812\n",
      "incorrect    2704     0    0    0    0    0    0    0    0   32  469 2203\n",
      "not in set      6     0    0    0    0    0    0    0    0    1    5    0\n",
      "======================================== knn with k= 50\n",
      " 99008400\n",
      "size of set total     0    1    2    3    4    5    6    7    8    9   10\n",
      "total       10000     0    0    0    0    0    0    0    0   26  845 9129\n",
      "incorrect    2175     0    0    0    0    0    0    0    0    6  151 2018\n",
      "not in set      1     0    0    0    0    0    0    0    0    0    1    0\n",
      "======================================== knn with k= 60\n",
      " 9900\n",
      "size of set total     0    1    2    3    4    5    6    7    8    9   10\n",
      "total       10000     0    0    0    0    0    0    0    0    5  329 9666\n",
      "incorrect    1800     0    0    0    0    0    0    0    0    0   47 1753\n",
      "not in set      0     0    0    0    0    0    0    0    0    0    0    0\n",
      "======================================== knn with k= 70\n",
      " 9900\n",
      "size of set total     0    1    2    3    4    5    6    7    8    9   10\n",
      "total       10000     0    0    0    0    0    0    0    0    0  141 9859\n",
      "incorrect    1508     0    0    0    0    0    0    0    0    0   10 1498\n",
      "not in set      0     0    0    0    0    0    0    0    0    0    0    0\n",
      "======================================== knn with k= 80\n",
      " 9900\n",
      "size of set total     0    1    2    3    4    5    6    7    8    9   10\n",
      "total       10000     0    0    0    0    0    0    0    0    0   55 9945\n",
      "incorrect    1297     0    0    0    0    0    0    0    0    0    3 1294\n",
      "not in set      0     0    0    0    0    0    0    0    0    0    0    0\n",
      "======================================== knn with k= 90\n",
      " 9900\n",
      "size of set total     0    1    2    3    4    5    6    7    8    9   10\n",
      "total       10000     0    0    0    0    0    0    0    0    0   28 9972\n",
      "incorrect    1145     0    0    0    0    0    0    0    0    0    2 1143\n",
      "not in set      0     0    0    0    0    0    0    0    0    0    0    0\n",
      "======================================== knn with k= 100\n",
      " 9900\n",
      "size of set total     0    1    2    3    4    5    6    7    8    9   10\n",
      "total       10000     0    0    0    0    0    0    0    0    0   15 9985\n",
      "incorrect    1029     0    0    0    0    0    0    0    0    0    2 1027\n",
      "not in set      0     0    0    0    0    0    0    0    0    0    0    0\n"
     ]
    }
   ],
   "source": [
    "for k in range(10,101,10):\n",
    "    print('='*40,'knn with k=',k)\n",
    "    errs=compute_errs('knn',k=k)"
   ]
  },
  {
   "cell_type": "code",
   "execution_count": 114,
   "metadata": {
    "ExecuteTime": {
     "end_time": "2019-05-01T01:13:35.358508Z",
     "start_time": "2019-05-01T01:13:29.083169Z"
    }
   },
   "outputs": [
    {
     "name": "stdout",
     "output_type": "stream",
     "text": [
      "======================================== knn with k= 100\n",
      " 9900\n",
      "size of set total     0    1    2    3    4    5    6    7    8    9   10\n",
      "total       10000     0    0    0    0    0    0    0    0    0   15 9985\n",
      "incorrect    1029     0    0    0    0    0    0    0    0    0    2 1027\n",
      "not in set      0     0    0    0    0    0    0    0    0    0    0    0\n",
      "======================================== knn with k= 200\n",
      " 9900\n",
      "size of set total     0    1    2    3    4    5    6    7    8    9   10\n",
      "total       10000     0    0    0    0    0    0    0    0    0    010000\n",
      "incorrect     818     0    0    0    0    0    0    0    0    0    0  818\n",
      "not in set      0     0    0    0    0    0    0    0    0    0    0    0\n",
      "======================================== knn with k= 300\n",
      " 9900\n",
      "size of set total     0    1    2    3    4    5    6    7    8    9   10\n",
      "total       10000     0    0    0    0    0    0    0    0    0    010000\n",
      "incorrect     842     0    0    0    0    0    0    0    0    0    0  842\n",
      "not in set      0     0    0    0    0    0    0    0    0    0    0    0\n",
      "======================================== knn with k= 400\n",
      " 9900\n",
      "size of set total     0    1    2    3    4    5    6    7    8    9   10\n",
      "total       10000     0    0    0    0    0    0    0    0    0    010000\n",
      "incorrect     881     0    0    0    0    0    0    0    0    0    0  881\n",
      "not in set      0     0    0    0    0    0    0    0    0    0    0    0\n",
      "======================================== knn with k= 500\n",
      " 9900\n",
      "size of set total     0    1    2    3    4    5    6    7    8    9   10\n",
      "total       10000     0    0    0    0    0    0    0    0    0    010000\n",
      "incorrect     952     0    0    0    0    0    0    0    0    0    0  952\n",
      "not in set      0     0    0    0    0    0    0    0    0    0    0    0\n",
      "======================================== knn with k= 600\n",
      " 9900\n",
      "size of set total     0    1    2    3    4    5    6    7    8    9   10\n",
      "total       10000     0    0    0    0    0    0    0    0    0    010000\n",
      "incorrect    1008     0    0    0    0    0    0    0    0    0    0 1008\n",
      "not in set      0     0    0    0    0    0    0    0    0    0    0    0\n",
      "======================================== knn with k= 700\n",
      " 9900\n",
      "size of set total     0    1    2    3    4    5    6    7    8    9   10\n",
      "total       10000     0    0    0    0    0    0    0    0    0    010000\n",
      "incorrect    1047     0    0    0    0    0    0    0    0    0    0 1047\n",
      "not in set      0     0    0    0    0    0    0    0    0    0    0    0\n",
      "======================================== knn with k= 800\n",
      " 9900\n",
      "size of set total     0    1    2    3    4    5    6    7    8    9   10\n",
      "total       10000     0    0    0    0    0    0    0    0    0    010000\n",
      "incorrect    1128     0    0    0    0    0    0    0    0    0    0 1128\n",
      "not in set      0     0    0    0    0    0    0    0    0    0    0    0\n"
     ]
    }
   ],
   "source": [
    "for k in range(100,801,100):\n",
    "    print('='*40,'knn with k=',k)\n",
    "    errs=compute_errs('knn',k=k)"
   ]
  },
  {
   "cell_type": "code",
   "execution_count": 115,
   "metadata": {
    "ExecuteTime": {
     "end_time": "2019-05-01T01:15:07.340226Z",
     "start_time": "2019-05-01T01:13:56.084731Z"
    },
    "scrolled": false
   },
   "outputs": [
    {
     "name": "stdout",
     "output_type": "stream",
     "text": [
      "======================================== adaptive NN with theta= 1\n",
      " 9900\n",
      "size of set total     0    1    2    3    4    5    6    7    8    9   10\n",
      "total       10000     0 1249  943 2829 2997 1675  293   14    0    0    0\n",
      "incorrect    2119     0  691  206  494  423  248   57    0    0    0    0\n",
      "not in set   1225     0  691  138  212  108   65   11    0    0    0    0\n",
      "======================================== adaptive NN with theta= 2\n",
      " 9900\n",
      "size of set total     0    1    2    3    4    5    6    7    8    9   10\n",
      "total       10000     0  445 2794 4303 2093  352   13    0    0    0    0\n",
      "incorrect    1066     0   36  213  453  295   65    4    0    0    0    0\n",
      "not in set    247     0   36   63   87   55    5    1    0    0    0    0\n",
      "======================================== adaptive NN with theta= 3\n",
      " 9900\n",
      "size of set total     0    1    2    3    4    5    6    7    8    9   10\n",
      "total       10000     0 1440 4080 3226 1070  174   10    0    0    0    0\n",
      "incorrect    1078     0   51  285  428  251   60    3    0    0    0    0\n",
      "not in set    255     0   51   85   76   36    6    1    0    0    0    0\n"
     ]
    }
   ],
   "source": [
    "for theta in range(1,4):\n",
    "    print('='*40,'adaptive NN with theta=',theta)\n",
    "    errs=compute_errs('adaptive',thr=theta)"
   ]
  },
  {
   "cell_type": "code",
   "execution_count": 62,
   "metadata": {
    "ExecuteTime": {
     "end_time": "2019-05-01T00:49:38.302087Z",
     "start_time": "2019-05-01T00:49:38.297674Z"
    }
   },
   "outputs": [
    {
     "data": {
      "text/plain": [
       "10000"
      ]
     },
     "execution_count": 62,
     "metadata": {},
     "output_type": "execute_result"
    }
   ],
   "source": [
    "5254  +2252  +1540   +626   +278    +50"
   ]
  },
  {
   "cell_type": "code",
   "execution_count": null,
   "metadata": {
    "ExecuteTime": {
     "end_time": "2019-05-01T00:02:46.861646Z",
     "start_time": "2019-04-30T23:58:22.168Z"
    }
   },
   "outputs": [],
   "source": [
    "i=8520 # a 4 that looks like a 9\n",
    "i=20\n",
    "#i=23\n",
    "#i=320\n",
    "\n",
    "threshold=5\n",
    "L=labels[i]\n",
    "true_label=test_labels[i]\n",
    "imshow(test_images[i,:,:],cmap='gray')\n",
    "title(str(true_label))\n",
    "\n",
    "figure(figsize=[10,8])\n",
    "_range=1000\n",
    "C=[]\n",
    "sig=[]\n",
    "scale=arange(1,_range+1,1)\n",
    "for i in range(10):\n",
    "    C.append(np.cumsum(L==i))\n",
    "    P=(C[-1][:_range]-(scale/10))/sqrt(scale)\n",
    "    sig.append(find_sig(P))\n",
    "    _name=str(i)\n",
    "    if i==true_label:\n",
    "        _name+= ' true label '\n",
    "    plot(P,label=_name)\n",
    "legend()\n",
    "grid()\n",
    "print(sig)"
   ]
  },
  {
   "cell_type": "code",
   "execution_count": null,
   "metadata": {
    "ExecuteTime": {
     "end_time": "2019-05-01T00:02:46.863089Z",
     "start_time": "2019-04-30T23:58:22.169Z"
    }
   },
   "outputs": [],
   "source": [
    "P[:10]"
   ]
  },
  {
   "cell_type": "code",
   "execution_count": null,
   "metadata": {
    "ExecuteTime": {
     "end_time": "2019-05-01T00:02:46.864394Z",
     "start_time": "2019-04-30T23:58:22.170Z"
    }
   },
   "outputs": [],
   "source": [
    "np.nonzero(P>1)[0].shape"
   ]
  },
  {
   "cell_type": "code",
   "execution_count": null,
   "metadata": {
    "ExecuteTime": {
     "end_time": "2019-05-01T00:02:46.865523Z",
     "start_time": "2019-04-30T23:58:22.171Z"
    }
   },
   "outputs": [],
   "source": [
    "# instead of giving up when reaching _range, use the label that showed the largest \"p\"."
   ]
  }
 ],
 "metadata": {
  "hide_input": false,
  "kernelspec": {
   "display_name": "Python 3",
   "language": "python",
   "name": "python3"
  },
  "language_info": {
   "codemirror_mode": {
    "name": "ipython",
    "version": 3
   },
   "file_extension": ".py",
   "mimetype": "text/x-python",
   "name": "python",
   "nbconvert_exporter": "python",
   "pygments_lexer": "ipython3",
   "version": "3.7.2"
  },
  "toc": {
   "base_numbering": 1,
   "nav_menu": {},
   "number_sections": true,
   "sideBar": true,
   "skip_h1_title": false,
   "title_cell": "Table of Contents",
   "title_sidebar": "Contents",
   "toc_cell": false,
   "toc_position": {},
   "toc_section_display": true,
   "toc_window_display": false
  }
 },
 "nbformat": 4,
 "nbformat_minor": 2
}
