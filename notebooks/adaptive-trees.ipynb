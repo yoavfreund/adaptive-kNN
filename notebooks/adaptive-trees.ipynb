{
 "cells": [
  {
   "cell_type": "markdown",
   "metadata": {},
   "source": [
    "# Adaptive Decision Trees\n",
    "\n",
    "Using iris dataset from scikit-learn."
   ]
  },
  {
   "cell_type": "code",
   "execution_count": 139,
   "metadata": {
    "collapsed": true
   },
   "outputs": [],
   "source": [
    "import numpy as np\n",
    "import scipy as sp\n",
    "\n",
    "import matplotlib.pyplot as plt\n",
    "from matplotlib.collections import PatchCollection\n",
    "from matplotlib.patches import Rectangle\n",
    "\n",
    "from sklearn import datasets"
   ]
  },
  {
   "cell_type": "markdown",
   "metadata": {},
   "source": [
    "## Load + Explore Data"
   ]
  },
  {
   "cell_type": "code",
   "execution_count": 31,
   "metadata": {
    "scrolled": true
   },
   "outputs": [
    {
     "name": "stdout",
     "output_type": "stream",
     "text": [
      "['sepal length (cm)', 'sepal width (cm)', 'petal length (cm)', 'petal width (cm)']\n",
      "['setosa' 'versicolor' 'virginica']\n",
      "150\n"
     ]
    }
   ],
   "source": [
    "data = datasets.load_iris()\n",
    "X, Y = data.data, data.target\n",
    "print(data.feature_names)\n",
    "print(data.target_names)\n",
    "print(len(X))"
   ]
  },
  {
   "cell_type": "code",
   "execution_count": 46,
   "metadata": {},
   "outputs": [
    {
     "data": {
      "image/png": "[encoded data removed]",
      "text/plain": [
       "<Figure size 432x288 with 1 Axes>"
      ]
     },
     "metadata": {},
     "output_type": "display_data"
    }
   ],
   "source": [
    "feat1, feat2 = (1, 2) # edit this\n",
    "plt.scatter(X[Y == 0][:, feat1], X[Y == 0][:, feat2], label=data.target_names[0])\n",
    "plt.scatter(X[Y == 1][:, feat1], X[Y == 1][:, feat2], label=data.target_names[1])\n",
    "plt.scatter(X[Y == 2][:, feat1], X[Y == 2][:, feat2], label=data.target_names[2])\n",
    "plt.xlabel(data.feature_names[feat1])\n",
    "plt.ylabel(data.feature_names[feat2])\n",
    "plt.show()"
   ]
  },
  {
   "cell_type": "code",
   "execution_count": null,
   "metadata": {
    "collapsed": true
   },
   "outputs": [],
   "source": []
  },
  {
   "cell_type": "code",
   "execution_count": 550,
   "metadata": {
    "collapsed": true
   },
   "outputs": [],
   "source": [
    "# pick 2 dimensions for easy viz\n",
    "X2d = X[:, [1, 2]]\n",
    "# blot out all but 50 labels\n",
    "Ysmall = Y.copy()\n",
    "mask = np.random.choice(np.arange(Y.size), size=150-50, replace=False)\n",
    "Ysmall[mask] = -1"
   ]
  },
  {
   "cell_type": "markdown",
   "metadata": {},
   "source": [
    "## Implement k-D Tree\n",
    "\n",
    "Can just use sp.spatial.KDTree once understand.\n",
    "\n",
    "This is not optimized, purpose is visualization."
   ]
  },
  {
   "cell_type": "code",
   "execution_count": 551,
   "metadata": {},
   "outputs": [],
   "source": [
    "np.random.shuffle(list(zip(X, Y)))"
   ]
  },
  {
   "cell_type": "code",
   "execution_count": 602,
   "metadata": {},
   "outputs": [],
   "source": [
    "# Node of K-D Tree, corresponds to a specialist.\n",
    "class TreeNode:\n",
    "    \n",
    "    def __init__(self, bounds):\n",
    "        self.bounds = bounds\n",
    "        self.left = self.right = None\n",
    "        self.split_point = self.split_dim = None\n",
    "    \n",
    "    def split(self, x, d):\n",
    "        self.split_point = x\n",
    "        self.split_dim = d\n",
    "        bounds_left = self.bounds.copy()\n",
    "        bounds_right = self.bounds.copy()\n",
    "        bounds_left[d][1] = x\n",
    "        bounds_right[d][0] = x\n",
    "        self.left = TreeNode(bounds_left)\n",
    "        self.right = TreeNode(bounds_right)\n",
    "\n",
    "    # propagate bias from children\n",
    "    def prop_bias(self):\n",
    "        if self.split_point is None:\n",
    "            return\n",
    "        pass\n",
    "        \n",
    "class KDTree:\n",
    "    \n",
    "    def __init__(self, X, Y):\n",
    "        both = list(zip(X, Y))\n",
    "        np.random.shuffle(both)\n",
    "        self.X, self.Y = zip(*both)\n",
    "        self.X, self.Y = np.array(self.X), np.array(self.Y)\n",
    "        self.root = TreeNode(np.array([[self.X[:, d].min(), self.X[:, d].max()]\n",
    "                                   for d in range(X.shape[1])]))\n",
    "        for i in range(self.X.shape[0]):\n",
    "            self.insert(self.X[i])\n",
    "    \n",
    "    def insert(self, x):\n",
    "        d = 0\n",
    "        node = self.root\n",
    "        while node.split_point:\n",
    "            side = 'left' if x[d] < node.split_point else 'right'\n",
    "            node = getattr(node, side)\n",
    "            d = (d + 1) % x.size\n",
    "        node.split(x[d], d)\n",
    "    \n",
    "    # get sequence of specialists converging to {x}\n",
    "    def get_seq(self, x):\n",
    "        seq = []\n",
    "        d = 0\n",
    "        node = self.root\n",
    "        while node.split_point:\n",
    "            seq.append(node.bounds)\n",
    "            node = node.left if x[d] < node.split_point else node.right\n",
    "            d = (d + 1) % x.size\n",
    "        return seq\n",
    "    \n",
    "    ## VISUALIZATION METHODS\n",
    "    # visualize dataset\n",
    "    def viz_data(self):\n",
    "        for y in [-1, 0, 1, 2]:\n",
    "            plt.scatter(self.X[self.Y == y][:, 0], self.X[self.Y == y][:, 1],\n",
    "                        label=(list(data.target_names)+['removed label'])[y])\n",
    "        plt.title('Iris Plants Dataset')\n",
    "        plt.xlabel(data.feature_names[0])\n",
    "        plt.ylabel(data.feature_names[1])\n",
    "        plt.legend(loc='best')\n",
    "    \n",
    "    # visualize entire decision tree\n",
    "    def viz_tree(self, depth=np.inf):\n",
    "        # recursively DFS through tree adding dividers to visualization\n",
    "        dim = self.X.shape[1]\n",
    "        assert dim == 2\n",
    "        vlines, hlines = [], []\n",
    "        def recurse(node, d, rec_depth=0):\n",
    "            if rec_depth > depth:\n",
    "                return\n",
    "            if node is None:\n",
    "                return\n",
    "            [plt.vlines, plt.hlines][d]([node.split_point], *node.bounds[1-d])\n",
    "            # make new specialist contexts for recursion\n",
    "            d = (d + 1) % dim\n",
    "            recurse(node.left, d, rec_depth+1)\n",
    "            recurse(node.right, d, rec_depth+1)\n",
    "        recurse(self.root, 0)\n",
    "    \n",
    "    # visualize the sequence of specialists induced by decision tree for a single point\n",
    "    def viz_point(self, x, ax):\n",
    "        ax.scatter([x[0]], [x[1]], color='black', s=300, marker='x')\n",
    "        dim = x.size\n",
    "        assert dim == 2\n",
    "        d = 0\n",
    "        rects = []\n",
    "        for spec in self.get_seq(x):\n",
    "            rect = Rectangle(spec[:, 0], spec[0, 1] - spec[0, 0], spec[1, 1] - spec[1, 0])\n",
    "            rects.append(rect)\n",
    "            d = (d + 1) % dim\n",
    "        pc = PatchCollection(rects, facecolor='none', alpha=1, edgecolor='black')\n",
    "        ax.add_collection(pc)"
   ]
  },
  {
   "cell_type": "markdown",
   "metadata": {},
   "source": [
    "## Visualize k-D Trees"
   ]
  },
  {
   "cell_type": "code",
   "execution_count": 623,
   "metadata": {},
   "outputs": [],
   "source": [
    "tree = KDTree(X2d, Ysmall)"
   ]
  },
  {
   "cell_type": "code",
   "execution_count": 624,
   "metadata": {
    "scrolled": false
   },
   "outputs": [
    {
     "data": {
      "image/png": "[encoded data removed]",
      "text/plain": [
       "<Figure size 432x288 with 1 Axes>"
      ]
     },
     "metadata": {},
     "output_type": "display_data"
    }
   ],
   "source": [
    "# visualize sequence of specialists for a single point\n",
    "# dimensions will appear to not alternate when the same coordinate position is selected twice.\n",
    "fig, ax = plt.subplots()\n",
    "tree.viz_data()\n",
    "tree.viz_point(np.array([3, 5]), ax)\n",
    "plt.show()"
   ]
  },
  {
   "cell_type": "code",
   "execution_count": 571,
   "metadata": {},
   "outputs": [
    {
     "data": {
      "image/png": "[encoded data removed]",
      "text/plain": [
       "<Figure size 432x288 with 1 Axes>"
      ]
     },
     "metadata": {},
     "output_type": "display_data"
    }
   ],
   "source": [
    "# visualize full tree\n",
    "fig, ax = plt.subplots()\n",
    "tree.viz_data()\n",
    "tree.viz_tree()\n",
    "plt.show()"
   ]
  },
  {
   "cell_type": "code",
   "execution_count": null,
   "metadata": {
    "collapsed": true
   },
   "outputs": [],
   "source": [
    "# tree = sp.spatial.KDTree(X2d)"
   ]
  },
  {
   "cell_type": "markdown",
   "metadata": {},
   "source": [
    "## Active Learning Procedure"
   ]
  },
  {
   "cell_type": "code",
   "execution_count": 444,
   "metadata": {
    "collapsed": true
   },
   "outputs": [],
   "source": [
    "N = 20\n",
    "trees = [KDTree(X2d, Y) for _ in range(N)] # initialize N trees"
   ]
  },
  {
   "cell_type": "code",
   "execution_count": null,
   "metadata": {
    "collapsed": true
   },
   "outputs": [],
   "source": []
  }
 ],
 "metadata": {
  "kernelspec": {
   "display_name": "Python 3",
   "language": "python",
   "name": "python3"
  },
  "language_info": {
   "codemirror_mode": {
    "name": "ipython",
    "version": 3
   },
   "file_extension": ".py",
   "mimetype": "text/x-python",
   "name": "python",
   "nbconvert_exporter": "python",
   "pygments_lexer": "ipython3",
   "version": "3.6.2"
  }
 },
 "nbformat": 4,
 "nbformat_minor": 2
}
