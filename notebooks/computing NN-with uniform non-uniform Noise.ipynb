{
 "cells": [
  {
   "cell_type": "code",
   "execution_count": 2,
   "metadata": {
    "ExecuteTime": {
     "end_time": "2019-05-15T00:25:43.803406Z",
     "start_time": "2019-05-15T00:25:43.270928Z"
    }
   },
   "outputs": [
    {
     "name": "stdout",
     "output_type": "stream",
     "text": [
      "Populating the interactive namespace from numpy and matplotlib\n"
     ]
    }
   ],
   "source": [
    "%pylab inline\n",
    "import pickle as pk"
   ]
  },
  {
   "cell_type": "code",
   "execution_count": 3,
   "metadata": {
    "ExecuteTime": {
     "end_time": "2019-05-15T00:25:45.225330Z",
     "start_time": "2019-05-15T00:25:45.222662Z"
    }
   },
   "outputs": [],
   "source": [
    "#labels is the labels or the neighbors of a test point\n",
    "#It consists of a list of 1000 arrays each corresponding to one test examples\n",
    "# each array contains 60000 elements which are the labels of the 60000 trainining examples sorted by increasing \n",
    "# distance to the test example.\n",
    "\n",
    "# with open('labels.pkl','br') as pklfile:\n",
    "#     labels=pk.load(pklfile)\n",
    "# len(labels), labels[0].shape"
   ]
  },
  {
   "cell_type": "code",
   "execution_count": 4,
   "metadata": {
    "ExecuteTime": {
     "end_time": "2019-05-15T00:25:46.222000Z",
     "start_time": "2019-05-15T00:25:46.062252Z"
    }
   },
   "outputs": [
    {
     "name": "stdout",
     "output_type": "stream",
     "text": [
      "-rw-r--r--  1 yoavfreund  staff   1.1G Apr 26 22:01 IndexByDistance.npz\r\n"
     ]
    }
   ],
   "source": [
    "!ls -lrth *.npz"
   ]
  },
  {
   "cell_type": "code",
   "execution_count": 5,
   "metadata": {
    "ExecuteTime": {
     "end_time": "2019-05-15T00:25:50.952513Z",
     "start_time": "2019-05-15T00:25:46.917959Z"
    },
    "scrolled": true
   },
   "outputs": [],
   "source": [
    "X=np.load('IndexByDistance.npz')\n",
    "indicesByDistance=X['a']"
   ]
  },
  {
   "cell_type": "code",
   "execution_count": 6,
   "metadata": {
    "ExecuteTime": {
     "end_time": "2019-05-15T00:25:53.308318Z",
     "start_time": "2019-05-15T00:25:50.955688Z"
    }
   },
   "outputs": [],
   "source": [
    "import mnist\n",
    "\n",
    "def recast(x):\n",
    "    return np.array(x,dtype=np.float32)\n",
    "train_images = recast(mnist.train_images())\n",
    "train_labels = mnist.train_labels()\n",
    "test_images = recast(mnist.test_images())\n",
    "test_labels = mnist.test_labels()"
   ]
  },
  {
   "cell_type": "code",
   "execution_count": 7,
   "metadata": {
    "ExecuteTime": {
     "end_time": "2019-05-15T00:25:53.324344Z",
     "start_time": "2019-05-15T00:25:53.311786Z"
    }
   },
   "outputs": [],
   "source": [
    "_range=1000\n",
    "\n",
    "def find_sig(S,thr=5):\n",
    "    \"\"\" S is a matrix of 10 X _range.\n",
    "    entry S[i,j] is the significance associated with label i when considering j nearset neighbors.\n",
    "    Find the first entry of x that is larger than thr.\n",
    "    returns predicted_label,stopping_time\n",
    "    \"\"\"\n",
    "    f=[]\n",
    "    stopping_time=_range\n",
    "    for i in range(10):\n",
    "        f=np.nonzero(S[i,:]>thr)[0]\n",
    "        if f.shape[0]>0:\n",
    "            f=f[0]\n",
    "            if stopping_time > f:\n",
    "                stopping_time=f\n",
    "                predicted_label=i\n",
    "    if stopping_time<_range:\n",
    "        return predicted_label,stopping_time\n",
    "    # did not find anything with significance > thr, then take the one with highest significance\n",
    "    _argmax=np.argmax(S,axis=1)\n",
    "    _max = np.max(S,axis=1)\n",
    "    predicted_label = np.argmax(_max)\n",
    "    stopping_time = _argmax[predicted_label]\n",
    "    #print(stopping_time)\n",
    "    return predicted_label,stopping_time\n",
    "            \n",
    "    "
   ]
  },
  {
   "cell_type": "code",
   "execution_count": 8,
   "metadata": {
    "ExecuteTime": {
     "end_time": "2019-05-15T00:25:56.797266Z",
     "start_time": "2019-05-15T00:25:56.792897Z"
    }
   },
   "outputs": [],
   "source": [
    "from collections import Counter\n",
    "def find_label_knn(test_index,k=5):\n",
    "    L=labels[test_index]\n",
    "    C=list(Counter(L[:k]).items())\n",
    "    S=sorted(C,key=lambda x:x[1],reverse=True)\n",
    "    return np.array(S).transpose()"
   ]
  },
  {
   "cell_type": "code",
   "execution_count": 9,
   "metadata": {
    "ExecuteTime": {
     "end_time": "2019-05-15T00:25:58.119097Z",
     "start_time": "2019-05-15T00:25:58.109819Z"
    }
   },
   "outputs": [],
   "source": [
    "def find_label_adaptive(test_index,thr=4):\n",
    "    \"\"\"Find label of test example test_index using adaptive k NN\"\"\"\n",
    "    C=[]\n",
    "    sig=[]\n",
    "    P=np.zeros([10,_range])\n",
    "    L=labels[test_index]\n",
    "    scale=arange(1,_range+1,1)\n",
    "    for i in range(10):\n",
    "        C.append(np.cumsum(L==i))\n",
    "        P[i,:]=(C[-1][:_range]-(scale/10))/sqrt(scale)\n",
    "    predicted_label,stopping_time = find_sig(P,thr=thr)\n",
    "    sigs_at_stop = P[:,stopping_time]\n",
    "    I=argsort(sigs_at_stop)\n",
    "    Sigs=sigs_at_stop[I]\n",
    "    prediction=np.array([I[Sigs>0],Sigs[Sigs>0]],dtype=np.int16)\n",
    "    return prediction[:,-1::-1]"
   ]
  },
  {
   "cell_type": "code",
   "execution_count": 10,
   "metadata": {
    "ExecuteTime": {
     "end_time": "2019-05-15T00:25:59.883781Z",
     "start_time": "2019-05-15T00:25:59.871555Z"
    }
   },
   "outputs": [],
   "source": [
    "def compute_errs(method=\"adaptive\",**kwargs):\n",
    "    errs=np.zeros([4,11])\n",
    "    n=test_labels.shape[0]\n",
    "    for i in range(n):\n",
    "        if method=='adaptive':\n",
    "            pred_label=find_label_adaptive(i,**kwargs)\n",
    "        else:\n",
    "            pred_label=find_label_knn(i,**kwargs)\n",
    "\n",
    "        prediction=int(pred_label[0,0])\n",
    "        err = 0 #prediction error\n",
    "        labelSet=set(pred_label[0,:])\n",
    "        if prediction != test_labels[i]:\n",
    "            err=1 # incorrect prediction\n",
    "        if test_labels[i] in labelSet:\n",
    "            err+=2 # prediction in prediction set\n",
    "        multi=pred_label.shape[1]\n",
    "        if prediction==-1:\n",
    "            multi=0\n",
    "            err=1\n",
    "        errs[err,multi]+=1\n",
    "        if i%100==0:\n",
    "            print('\\r',i,end='')\n",
    "    errs=np.array(errs,dtype=np.int16)\n",
    "    print()       \n",
    "\n",
    "    cr_sums=np.sum(errs,axis=1)\n",
    "    print('size of set total',''.join([\"%5d\"%x for x in range(11)]))\n",
    "    print('total      %6d'%np.sum(cr_sums),''.join([\"%5d\"%x for x in np.sum(errs,axis=0)]))\n",
    "    print('incorrect  %6d'%np.sum(cr_sums[[0,1,3]]),''.join([\"%5d\"%x for x in np.sum(errs,axis=0)-errs[2,:]]))\n",
    "    #print('in set     ',''.join([\"%6d\"%x for x in errs[2,:]+errs[3,:]]))\n",
    "    print('not in set %6d'%np.sum(cr_sums[[0,1]]),''.join([\"%5d\"%x for x in errs[0,:]+errs[1,:]]))\n",
    "    return cr_sums"
   ]
  },
  {
   "cell_type": "code",
   "execution_count": 11,
   "metadata": {
    "ExecuteTime": {
     "end_time": "2019-05-15T00:26:02.839792Z",
     "start_time": "2019-05-15T00:26:02.836777Z"
    }
   },
   "outputs": [],
   "source": [
    "knn_err=[]"
   ]
  },
  {
   "cell_type": "code",
   "execution_count": 25,
   "metadata": {
    "ExecuteTime": {
     "end_time": "2019-05-15T00:53:26.590241Z",
     "start_time": "2019-05-15T00:53:26.572789Z"
    }
   },
   "outputs": [
    {
     "name": "stdout",
     "output_type": "stream",
     "text": [
      "================================================== p= 0.3\n"
     ]
    },
    {
     "data": {
      "text/plain": [
       "(array([0. , 0.9, 0.9, 0. , 0. , 0. , 0. , 0. , 0. , 0.9]),\n",
       " array([5, 0, 4, 1, 9, 2, 1, 3, 1, 4], dtype=uint8))"
      ]
     },
     "execution_count": 25,
     "metadata": {},
     "output_type": "execute_result"
    }
   ],
   "source": [
    "#for p in arange(0,1,0.1):\n",
    "p=0.3\n",
    "print(50*'=','p=',p)\n",
    "\n",
    "random=np.random.choice(10,train_labels.shape)\n",
    "\n",
    "combined=np.dstack((train_labels,random))\n",
    "flip_p = (train_labels%4==0)*0.9\n",
    "flip_p[:10],train_labels[:10]"
   ]
  },
  {
   "cell_type": "code",
   "execution_count": 26,
   "metadata": {
    "ExecuteTime": {
     "end_time": "2019-05-15T00:53:56.555316Z",
     "start_time": "2019-05-15T00:53:47.210830Z"
    }
   },
   "outputs": [
    {
     "data": {
      "text/plain": [
       "array([[7, 7, 7, 7, 7, 7, 7, 7, 7, 7],\n",
       "       [2, 2, 2, 2, 2, 2, 2, 2, 2, 2],\n",
       "       [1, 1, 1, 1, 1, 1, 1, 1, 1, 1]])"
      ]
     },
     "execution_count": 26,
     "metadata": {},
     "output_type": "execute_result"
    }
   ],
   "source": [
    "selector=np.random.binomial(1,flip_p,random.shape)\n",
    "sel=np.dstack([1-selector,selector])\n",
    "\n",
    "noisy_labels=sum(combined*sel,axis=2).squeeze()\n",
    "noisy_labels.shape\n",
    "\n",
    "labels=noisy_labels[indicesByDistance]\n",
    "labels[:3,:10]"
   ]
  },
  {
   "cell_type": "code",
   "execution_count": 27,
   "metadata": {
    "ExecuteTime": {
     "end_time": "2019-05-15T00:56:05.097293Z",
     "start_time": "2019-05-15T00:53:56.558783Z"
    }
   },
   "outputs": [
    {
     "name": "stdout",
     "output_type": "stream",
     "text": [
      " 9900=================================== knn with k= 1, \n",
      "size of set total     0    1    2    3    4    5    6    7    8    9   10\n",
      "total       10000     010000    0    0    0    0    0    0    0    0    0\n",
      "incorrect    2574     0 2574    0    0    0    0    0    0    0    0    0\n",
      "not in set   2574     0 2574    0    0    0    0    0    0    0    0    0\n",
      " 9900=================================== knn with k= 2, \n",
      "size of set total     0    1    2    3    4    5    6    7    8    9   10\n",
      "total       10000     0 7156 2844    0    0    0    0    0    0    0    0\n",
      "incorrect    2574     0  302 2272    0    0    0    0    0    0    0    0\n",
      "not in set   2010     0  302 1708    0    0    0    0    0    0    0    0\n",
      " 9900=================================== knn with k= 4, \n",
      "size of set total     0    1    2    3    4    5    6    7    8    9   10\n",
      "total       10000     0 6622  613 1363 1402    0    0    0    0    0    0\n",
      "incorrect    2437     0   57  245  955 1180    0    0    0    0    0    0\n",
      "not in set   1350     0   57  143  583  567    0    0    0    0    0    0\n",
      " 9900=================================== knn with k= 8, \n",
      "size of set total     0    1    2    3    4    5    6    7    8    9   10\n",
      "total       10000     0 6273  564  227  383  991 1135  382   45    0    0\n",
      "incorrect    2285     0   28   80   87  217  683  854  298   38    0    0\n",
      "not in set    621     0   28   21   32   79  189  204   63    5    0    0\n",
      " 9900=================================== knn with k= 16, \n",
      "size of set total     0    1    2    3    4    5    6    7    8    9   10\n",
      "total       10000     0 5773  771  269  150   97  261  699 1113  701  166\n",
      "incorrect    2109     0   24   63   48   51   46  144  411  699  498  125\n",
      "not in set    182     0   24    8    6   17   10   20   41   43   13    0\n",
      " 9900=================================== knn with k= 32, \n",
      "size of set total     0    1    2    3    4    5    6    7    8    9   10\n",
      "total       10000     0 5032 1024  435  217  132   95  106  243 1033 1683\n",
      "incorrect    1831     0   14   55   49   47   29   24   49  129  543  892\n",
      "not in set     55     0   14    7    1   10    4    7    3    7    2    0\n",
      " 9900=================================== knn with k= 64, \n",
      "size of set total     0    1    2    3    4    5    6    7    8    9   10\n",
      "total       10000     0 4054 1193  616  330  254  173  152  128  253 2847\n",
      "incorrect    1492     0    5   40   56   32   32   30   33   45  124 1095\n",
      "not in set     28     0    5    7    5    2    2    1    2    2    2    0\n",
      " 9900=================================== knn with k= 128, \n",
      "size of set total     0    1    2    3    4    5    6    7    8    9   10\n",
      "total       10000     0 2975 1100  710  451  404  293  275  220  282 3290\n",
      "incorrect    1350     0    2   22   40   40   32   27   34   38   62 1053\n",
      "not in set     13     0    2    4    3    2    1    0    1    0    0    0\n",
      " 9900=================================== knn with k= 256, \n",
      "size of set total     0    1    2    3    4    5    6    7    8    9   10\n",
      "total       10000     0 1941  895  638  453  382  370  363  406  483 4069\n",
      "incorrect    1631     0    0   10   23   30   34   29   32   34   60 1379\n",
      "not in set      3     0    0    0    0    1    1    1    0    0    0    0\n",
      " 9900=================================== knn with k= 512, \n",
      "size of set total     0    1    2    3    4    5    6    7    8    9   10\n",
      "total       10000     0 1156  579  407  346  354  311  307  403  562 5575\n",
      "incorrect    2084     0    0    3   10   14   22   17   26   42   57 1893\n",
      "not in set      0     0    0    0    0    0    0    0    0    0    0    0\n",
      " 9900=================================== knn with k= 1024, \n",
      "size of set total     0    1    2    3    4    5    6    7    8    9   10\n",
      "total       10000     0  417  466  326  256  184  176  179  264  393 7339\n",
      "incorrect    2622     0    0    1    1    4    6   17   15   32   43 2503\n",
      "not in set      0     0    0    0    0    0    0    0    0    0    0    0\n",
      " 9900=================================== knn with k= 2048, \n",
      "size of set total     0    1    2    3    4    5    6    7    8    9   10\n",
      "total       10000     0    2   20  105  177  180  161  160  169  226 8800\n",
      "incorrect    3303     0    0    0    0    0    0    1    5    7   17 3273\n",
      "not in set      0     0    0    0    0    0    0    0    0    0    0    0\n",
      "======================================== adaptive NN with theta= 1\n",
      " 9900\n",
      "size of set total     0    1    2    3    4    5    6    7    8    9   10\n",
      "total       10000     0 7169  426  853  976  478   94    4    0    0    0\n",
      "incorrect    1352     0  305  161  341  352  163   29    1    0    0    0\n",
      "not in set    639     0  305   87  127   77   34    9    0    0    0    0\n",
      "======================================== adaptive NN with theta= 2\n",
      " 9900\n",
      "size of set total     0    1    2    3    4    5    6    7    8    9   10\n",
      "total       10000     0 6571 1295 1409  647   74    4    0    0    0    0\n",
      "incorrect    1923     0   66  649  837  337   32    2    0    0    0    0\n",
      "not in set    296     0   66  118   85   25    2    0    0    0    0    0\n",
      "======================================== adaptive NN with theta= 3\n",
      " 9900\n",
      "size of set total     0    1    2    3    4    5    6    7    8    9   10\n",
      "total       10000     0 6666 1727 1175  381   48    3    0    0    0    0\n",
      "incorrect    2192     0  105 1015  805  242   23    2    0    0    0    0\n",
      "not in set    371     0  105  152   87   24    3    0    0    0    0    0\n"
     ]
    }
   ],
   "source": [
    "for i in range(12):\n",
    "    k=2**i\n",
    "    print('='*40,'knn with k=',k,end=', ')\n",
    "    cr_sums=compute_errs('knn',k=k)\n",
    "    #print(cr_sums)\n",
    "    knn_err.append({'method':'knn','p':p,'k':k,'err':np.sum(cr_sums[[0,1,3]])/100.})\n",
    "\n",
    "for theta in range(1,4):\n",
    "    print('='*40,'adaptive NN with theta=',theta)\n",
    "    cr_sums=compute_errs('adaptive',thr=theta)\n",
    "    knn_err.append({'method':'adaptive','p':p,'theta':theta,'err':np.sum(cr_sums[[0,1,3]])/100.})\n",
    "\n",
    "#knn_err"
   ]
  },
  {
   "cell_type": "code",
   "execution_count": 14,
   "metadata": {
    "ExecuteTime": {
     "end_time": "2019-05-14T06:26:36.004142Z",
     "start_time": "2019-05-14T06:26:35.862844Z"
    }
   },
   "outputs": [],
   "source": [
    "import pickle as pk\n",
    "\n",
    "pk.dump(knn_err,open('knn_err.pkl','bw'))\n",
    "\n",
    "knn_err2=pk.load(open('knn_err.pkl','br'))\n"
   ]
  },
  {
   "cell_type": "code",
   "execution_count": 27,
   "metadata": {
    "ExecuteTime": {
     "end_time": "2019-05-14T17:47:15.223790Z",
     "start_time": "2019-05-14T17:47:15.212341Z"
    }
   },
   "outputs": [
    {
     "data": {
      "text/plain": [
       "array([ 3.39,  3.71,  3.84,  4.15,  4.73,  5.36,  6.26,  7.53,  9.61,\n",
       "       11.9 ])"
      ]
     },
     "execution_count": 27,
     "metadata": {},
     "output_type": "execute_result"
    }
   ],
   "source": [
    "adaptive = np.zeros(10)\n",
    "for row in knn_err:\n",
    "    if row['method']=='adaptive' and row['theta']==2:\n",
    "        i=int(10*row['p'])\n",
    "        err=row['err']\n",
    "        adaptive[i] = err\n",
    "adaptive"
   ]
  },
  {
   "cell_type": "code",
   "execution_count": 52,
   "metadata": {
    "ExecuteTime": {
     "end_time": "2019-05-14T20:03:16.554305Z",
     "start_time": "2019-05-14T20:03:15.854711Z"
    },
    "scrolled": true
   },
   "outputs": [
    {
     "data": {
      "image/png": "[encoded data removed]",
      "text/plain": [
       "<Figure size 720x504 with 1 Axes>"
      ]
     },
     "metadata": {
      "needs_background": "light"
     },
     "output_type": "display_data"
    }
   ],
   "source": [
    "err=np.zeros(12)\n",
    "K=np.zeros(12)\n",
    "knn_best=[]\n",
    "figure(figsize=[10,7])\n",
    "for j in range(10):\n",
    "    p=j/10.\n",
    "    A=adaptive[j]; A=[A]*12\n",
    "    _min=100\n",
    "    for row in knn_err:\n",
    "        if abs(row['p']-p)<0.001 and row['method']=='knn':\n",
    "            i=int(log2(row['k']+1))\n",
    "            err[i] = row['err']\n",
    "            if row['err']< _min:\n",
    "                _min=row['err']\n",
    "                _min_i=row['k']\n",
    "            K[i]=2**i\n",
    "    semilogx(K,err,label='knn p=%2.1f'%p);\n",
    "    semilogx(K,A,label='adapt p=%2.1f'%p);\n",
    "    knn_best.append((j/10.,_min_i,_min))\n",
    "    \n",
    "ylim([0,15])\n",
    "legend()\n",
    "grid()"
   ]
  },
  {
   "cell_type": "code",
   "execution_count": 49,
   "metadata": {
    "ExecuteTime": {
     "end_time": "2019-05-14T20:00:44.423999Z",
     "start_time": "2019-05-14T20:00:44.419727Z"
    }
   },
   "outputs": [
    {
     "name": "stdout",
     "output_type": "stream",
     "text": [
      " 0.0\t    4 \t  2.39 \t  3.39\n",
      " 0.1\t    8 \t  2.76 \t  3.71\n",
      " 0.2\t    8 \t  2.75 \t  3.84\n",
      " 0.3\t   16 \t  3.18 \t  4.15\n",
      " 0.4\t   16 \t  3.50 \t  4.73\n",
      " 0.5\t   32 \t  3.90 \t  5.36\n",
      " 0.6\t   32 \t  4.19 \t  6.26\n",
      " 0.7\t   64 \t  4.94 \t  7.53\n",
      " 0.8\t  128 \t  6.24 \t  9.61\n",
      " 0.9\t  512 \t 10.52 \t 11.90\n"
     ]
    }
   ],
   "source": [
    "for i in range(10):\n",
    "    L=knn_best[i]\n",
    "    print(\" %3.1f\\t %4d \\t %5.2f \\t %5.2f\"%(L[0],L[1],L[2],adaptive[i]))"
   ]
  },
  {
   "cell_type": "markdown",
   "metadata": {},
   "source": [
    "## Old stuff"
   ]
  },
  {
   "cell_type": "code",
   "execution_count": 47,
   "metadata": {
    "ExecuteTime": {
     "end_time": "2019-05-14T19:59:59.812137Z",
     "start_time": "2019-05-14T19:59:59.605698Z"
    }
   },
   "outputs": [
    {
     "ename": "IndexError",
     "evalue": "too many indices for array",
     "output_type": "error",
     "traceback": [
      "\u001b[0;31m---------------------------------------------------------------------------\u001b[0m",
      "\u001b[0;31mIndexError\u001b[0m                                Traceback (most recent call last)",
      "\u001b[0;32m<ipython-input-47-648f494cce5f>\u001b[0m in \u001b[0;36m<module>\u001b[0;34m\u001b[0m\n\u001b[1;32m     18\u001b[0m     \u001b[0mC\u001b[0m\u001b[0;34m.\u001b[0m\u001b[0mappend\u001b[0m\u001b[0;34m(\u001b[0m\u001b[0mnp\u001b[0m\u001b[0;34m.\u001b[0m\u001b[0mcumsum\u001b[0m\u001b[0;34m(\u001b[0m\u001b[0mL\u001b[0m\u001b[0;34m==\u001b[0m\u001b[0mi\u001b[0m\u001b[0;34m)\u001b[0m\u001b[0;34m)\u001b[0m\u001b[0;34m\u001b[0m\u001b[0;34m\u001b[0m\u001b[0m\n\u001b[1;32m     19\u001b[0m     \u001b[0mP\u001b[0m\u001b[0;34m=\u001b[0m\u001b[0;34m(\u001b[0m\u001b[0mC\u001b[0m\u001b[0;34m[\u001b[0m\u001b[0;34m-\u001b[0m\u001b[0;36m1\u001b[0m\u001b[0;34m]\u001b[0m\u001b[0;34m[\u001b[0m\u001b[0;34m:\u001b[0m\u001b[0m_range\u001b[0m\u001b[0;34m]\u001b[0m\u001b[0;34m-\u001b[0m\u001b[0;34m(\u001b[0m\u001b[0mscale\u001b[0m\u001b[0;34m/\u001b[0m\u001b[0;36m10\u001b[0m\u001b[0;34m)\u001b[0m\u001b[0;34m)\u001b[0m\u001b[0;34m/\u001b[0m\u001b[0msqrt\u001b[0m\u001b[0;34m(\u001b[0m\u001b[0mscale\u001b[0m\u001b[0;34m)\u001b[0m\u001b[0;34m\u001b[0m\u001b[0;34m\u001b[0m\u001b[0m\n\u001b[0;32m---> 20\u001b[0;31m     \u001b[0msig\u001b[0m\u001b[0;34m.\u001b[0m\u001b[0mappend\u001b[0m\u001b[0;34m(\u001b[0m\u001b[0mfind_sig\u001b[0m\u001b[0;34m(\u001b[0m\u001b[0mP\u001b[0m\u001b[0;34m)\u001b[0m\u001b[0;34m)\u001b[0m\u001b[0;34m\u001b[0m\u001b[0;34m\u001b[0m\u001b[0m\n\u001b[0m\u001b[1;32m     21\u001b[0m     \u001b[0m_name\u001b[0m\u001b[0;34m=\u001b[0m\u001b[0mstr\u001b[0m\u001b[0;34m(\u001b[0m\u001b[0mi\u001b[0m\u001b[0;34m)\u001b[0m\u001b[0;34m\u001b[0m\u001b[0;34m\u001b[0m\u001b[0m\n\u001b[1;32m     22\u001b[0m     \u001b[0;32mif\u001b[0m \u001b[0mi\u001b[0m\u001b[0;34m==\u001b[0m\u001b[0mtrue_label\u001b[0m\u001b[0;34m:\u001b[0m\u001b[0;34m\u001b[0m\u001b[0;34m\u001b[0m\u001b[0m\n",
      "\u001b[0;32m<ipython-input-7-afc9f0fe3483>\u001b[0m in \u001b[0;36mfind_sig\u001b[0;34m(S, thr)\u001b[0m\n\u001b[1;32m     10\u001b[0m     \u001b[0mstopping_time\u001b[0m\u001b[0;34m=\u001b[0m\u001b[0m_range\u001b[0m\u001b[0;34m\u001b[0m\u001b[0;34m\u001b[0m\u001b[0m\n\u001b[1;32m     11\u001b[0m     \u001b[0;32mfor\u001b[0m \u001b[0mi\u001b[0m \u001b[0;32min\u001b[0m \u001b[0mrange\u001b[0m\u001b[0;34m(\u001b[0m\u001b[0;36m10\u001b[0m\u001b[0;34m)\u001b[0m\u001b[0;34m:\u001b[0m\u001b[0;34m\u001b[0m\u001b[0;34m\u001b[0m\u001b[0m\n\u001b[0;32m---> 12\u001b[0;31m         \u001b[0mf\u001b[0m\u001b[0;34m=\u001b[0m\u001b[0mnp\u001b[0m\u001b[0;34m.\u001b[0m\u001b[0mnonzero\u001b[0m\u001b[0;34m(\u001b[0m\u001b[0mS\u001b[0m\u001b[0;34m[\u001b[0m\u001b[0mi\u001b[0m\u001b[0;34m,\u001b[0m\u001b[0;34m:\u001b[0m\u001b[0;34m]\u001b[0m\u001b[0;34m>\u001b[0m\u001b[0mthr\u001b[0m\u001b[0;34m)\u001b[0m\u001b[0;34m[\u001b[0m\u001b[0;36m0\u001b[0m\u001b[0;34m]\u001b[0m\u001b[0;34m\u001b[0m\u001b[0;34m\u001b[0m\u001b[0m\n\u001b[0m\u001b[1;32m     13\u001b[0m         \u001b[0;32mif\u001b[0m \u001b[0mf\u001b[0m\u001b[0;34m.\u001b[0m\u001b[0mshape\u001b[0m\u001b[0;34m[\u001b[0m\u001b[0;36m0\u001b[0m\u001b[0;34m]\u001b[0m\u001b[0;34m>\u001b[0m\u001b[0;36m0\u001b[0m\u001b[0;34m:\u001b[0m\u001b[0;34m\u001b[0m\u001b[0;34m\u001b[0m\u001b[0m\n\u001b[1;32m     14\u001b[0m             \u001b[0mf\u001b[0m\u001b[0;34m=\u001b[0m\u001b[0mf\u001b[0m\u001b[0;34m[\u001b[0m\u001b[0;36m0\u001b[0m\u001b[0;34m]\u001b[0m\u001b[0;34m\u001b[0m\u001b[0;34m\u001b[0m\u001b[0m\n",
      "\u001b[0;31mIndexError\u001b[0m: too many indices for array"
     ]
    },
    {
     "data": {
      "image/png": "[encoded data removed]",
      "text/plain": [
       "<Figure size 432x288 with 1 Axes>"
      ]
     },
     "metadata": {
      "needs_background": "light"
     },
     "output_type": "display_data"
    },
    {
     "data": {
      "text/plain": [
       "<Figure size 720x576 with 0 Axes>"
      ]
     },
     "metadata": {},
     "output_type": "display_data"
    }
   ],
   "source": [
    "i=8520 # a 4 that looks like a 9\n",
    "i=20\n",
    "#i=23\n",
    "#i=320\n",
    "\n",
    "threshold=5\n",
    "L=labels[i]\n",
    "true_label=test_labels[i]\n",
    "imshow(test_images[i,:,:],cmap='gray')\n",
    "title(str(true_label))\n",
    "\n",
    "figure(figsize=[10,8])\n",
    "_range=1000\n",
    "C=[]\n",
    "sig=[]\n",
    "scale=arange(1,_range+1,1)\n",
    "for i in range(10):\n",
    "    C.append(np.cumsum(L==i))\n",
    "    P=(C[-1][:_range]-(scale/10))/sqrt(scale)\n",
    "    sig.append(find_sig(P))\n",
    "    _name=str(i)\n",
    "    if i==true_label:\n",
    "        _name+= ' true label '\n",
    "    plot(P,label=_name)\n",
    "legend()\n",
    "grid()\n",
    "print(sig)"
   ]
  },
  {
   "cell_type": "code",
   "execution_count": null,
   "metadata": {
    "ExecuteTime": {
     "end_time": "2019-05-14T06:28:05.898536Z",
     "start_time": "2019-05-14T05:39:10.422Z"
    }
   },
   "outputs": [],
   "source": [
    "P[:10]"
   ]
  },
  {
   "cell_type": "code",
   "execution_count": null,
   "metadata": {
    "ExecuteTime": {
     "end_time": "2019-05-14T06:28:05.901049Z",
     "start_time": "2019-05-14T05:39:10.423Z"
    }
   },
   "outputs": [],
   "source": [
    "np.nonzero(P>1)[0].shape"
   ]
  },
  {
   "cell_type": "code",
   "execution_count": null,
   "metadata": {
    "ExecuteTime": {
     "end_time": "2019-05-14T06:28:05.903871Z",
     "start_time": "2019-05-14T05:39:10.425Z"
    }
   },
   "outputs": [],
   "source": [
    "# instead of giving up when reaching _range, use the label that showed the largest \"p\"."
   ]
  }
 ],
 "metadata": {
  "hide_input": false,
  "kernelspec": {
   "display_name": "Python 3",
   "language": "python",
   "name": "python3"
  },
  "language_info": {
   "codemirror_mode": {
    "name": "ipython",
    "version": 3
   },
   "file_extension": ".py",
   "mimetype": "text/x-python",
   "name": "python",
   "nbconvert_exporter": "python",
   "pygments_lexer": "ipython3",
   "version": "3.7.2"
  },
  "toc": {
   "base_numbering": 1,
   "nav_menu": {},
   "number_sections": true,
   "sideBar": true,
   "skip_h1_title": false,
   "title_cell": "Table of Contents",
   "title_sidebar": "Contents",
   "toc_cell": false,
   "toc_position": {},
   "toc_section_display": true,
   "toc_window_display": false
  }
 },
 "nbformat": 4,
 "nbformat_minor": 2
}
