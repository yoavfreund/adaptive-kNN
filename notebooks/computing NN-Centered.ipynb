{
 "cells": [
  {
   "cell_type": "code",
   "execution_count": 2,
   "metadata": {
    "ExecuteTime": {
     "end_time": "2019-04-24T05:30:26.867199Z",
     "start_time": "2019-04-24T05:30:26.465102Z"
    }
   },
   "outputs": [
    {
     "name": "stdout",
     "output_type": "stream",
     "text": [
      "Populating the interactive namespace from numpy and matplotlib\n"
     ]
    }
   ],
   "source": [
    "%pylab inline\n",
    "import pickle as pk"
   ]
  },
  {
   "cell_type": "code",
   "execution_count": 3,
   "metadata": {
    "ExecuteTime": {
     "end_time": "2019-04-24T05:30:28.160875Z",
     "start_time": "2019-04-24T05:30:28.024014Z"
    }
   },
   "outputs": [
    {
     "name": "stdout",
     "output_type": "stream",
     "text": [
      "-rw-r--r--  1 yoavfreund  staff  600579404 Apr  7 10:24 labels.pkl\r\n",
      "-rw-r--r--  1 yoavfreund  staff  223719807 Apr 23 20:05 centered_data.pkl\r\n",
      "-rw-r--r--  1 yoavfreund  staff  600579404 Apr 23 21:29 labels_centered.pkl\r\n"
     ]
    }
   ],
   "source": [
    "!ls -lrt *.pkl"
   ]
  },
  {
   "cell_type": "code",
   "execution_count": 4,
   "metadata": {
    "ExecuteTime": {
     "end_time": "2019-04-24T05:30:30.603072Z",
     "start_time": "2019-04-24T05:30:29.688779Z"
    }
   },
   "outputs": [
    {
     "data": {
      "text/plain": [
       "(10000, (60000,))"
      ]
     },
     "execution_count": 4,
     "metadata": {},
     "output_type": "execute_result"
    }
   ],
   "source": [
    "#labels is the labels or the neighbors of a test point\n",
    "#It consists of a list of 1000 arrays each corresponding to one test examples\n",
    "# each array contains 60000 elements which are the labels of the 60000 trainining examples sorted by increasing \n",
    "# distance to the test example.\n",
    "\n",
    "with open('labels_centered.pkl','br') as pklfile:\n",
    "    labels=pk.load(pklfile)\n",
    "len(labels), labels[0].shape"
   ]
  },
  {
   "cell_type": "code",
   "execution_count": 5,
   "metadata": {
    "ExecuteTime": {
     "end_time": "2019-04-24T05:32:04.368851Z",
     "start_time": "2019-04-24T05:32:03.456988Z"
    }
   },
   "outputs": [],
   "source": [
    "import pickle as pk\n",
    "with open('centered_data.pkl','rb') as pkfile:\n",
    "    D=pk.load(pkfile)\n",
    "D.keys()\n",
    " \n",
    "train_images = D['train_images']\n",
    "train_labels = D['train_labels']\n",
    "test_images = D['test_images']\n",
    "test_labels = D['test_labels']\n",
    "\n",
    "train_images=np.array(train_images)\n",
    "test_images = np.array(test_images)"
   ]
  },
  {
   "cell_type": "code",
   "execution_count": 6,
   "metadata": {
    "ExecuteTime": {
     "end_time": "2019-04-24T05:32:06.347757Z",
     "start_time": "2019-04-24T05:32:06.343773Z"
    }
   },
   "outputs": [],
   "source": [
    "def find_sig(x,thr=5):\n",
    "    \"\"\"Find the first entry of x that is larger than thr.\n",
    "    if found : return the index\n",
    "    if not found return np.NaN\"\"\"\n",
    "    f=np.nonzero(x>thr)[0]\n",
    "    if f.shape[0]==0:\n",
    "        return np.NaN\n",
    "    else:\n",
    "        return f[0]"
   ]
  },
  {
   "cell_type": "code",
   "execution_count": 7,
   "metadata": {
    "ExecuteTime": {
     "end_time": "2019-04-24T05:32:10.825895Z",
     "start_time": "2019-04-24T05:32:10.820936Z"
    }
   },
   "outputs": [
    {
     "data": {
      "text/plain": [
       "31"
      ]
     },
     "execution_count": 7,
     "metadata": {},
     "output_type": "execute_result"
    }
   ],
   "source": [
    "x=arange(0,6,0.1)\n",
    "find_sig(x,3)"
   ]
  },
  {
   "cell_type": "code",
   "execution_count": 8,
   "metadata": {
    "ExecuteTime": {
     "end_time": "2019-04-24T05:32:12.041127Z",
     "start_time": "2019-04-24T05:32:12.036805Z"
    }
   },
   "outputs": [
    {
     "data": {
      "text/plain": [
       "True"
      ]
     },
     "execution_count": 8,
     "metadata": {},
     "output_type": "execute_result"
    }
   ],
   "source": [
    "k=3\n",
    "type(k) is int"
   ]
  },
  {
   "cell_type": "code",
   "execution_count": 9,
   "metadata": {
    "ExecuteTime": {
     "end_time": "2019-04-24T05:32:13.425056Z",
     "start_time": "2019-04-24T05:32:13.420586Z"
    }
   },
   "outputs": [],
   "source": [
    "from collections import Counter\n",
    "def find_label_knn(test_index,k=5):\n",
    "    L=labels[test_index]\n",
    "    C=list(Counter(L[:k]).items())\n",
    "    S=sorted(C,key=lambda x:x[1],reverse=True)\n",
    "    return np.array(S).transpose()"
   ]
  },
  {
   "cell_type": "code",
   "execution_count": 10,
   "metadata": {
    "ExecuteTime": {
     "end_time": "2019-04-24T05:32:14.941583Z",
     "start_time": "2019-04-24T05:32:14.932765Z"
    }
   },
   "outputs": [],
   "source": [
    "def find_label_adaptive(test_index,thr=4):\n",
    "    \"\"\"Find label of test example test_index using adaptive k NN\"\"\"\n",
    "    _range=1000\n",
    "    C=[]\n",
    "    sig=[]\n",
    "    P=np.zeros([10,_range])\n",
    "    L=labels[test_index]\n",
    "    scale=arange(1,_range+1,1)\n",
    "    for i in range(10):\n",
    "        C.append(np.cumsum(L==i))\n",
    "        P[i,:]=(C[-1][:_range]-(scale/10))/sqrt(scale)\n",
    "        sig.append(find_sig(P[i,:],thr=thr))\n",
    "    sig=np.array(sig)\n",
    "    no_sig = np.sum(~np.isnan(sig)) #count how many labels reached significance\n",
    "    if no_sig==0:\n",
    "        return np.array([[-1,-1],[-1,-1]])\n",
    "    predicted_label=np.nanargmin(sig)\n",
    "    stopping_time=int(sig[predicted_label])\n",
    "    sigs_at_stop = P[:,stopping_time]\n",
    "    I=argsort(sigs_at_stop)\n",
    "    Sigs=sigs_at_stop[I]\n",
    "    prediction=np.array([I[Sigs>0],Sigs[Sigs>0]],dtype=np.int16)\n",
    "    return prediction[:,-1::-1]"
   ]
  },
  {
   "cell_type": "code",
   "execution_count": 11,
   "metadata": {
    "ExecuteTime": {
     "end_time": "2019-04-24T05:32:16.406118Z",
     "start_time": "2019-04-24T05:32:16.395932Z"
    }
   },
   "outputs": [],
   "source": [
    "def compute_errs(method=\"adaptive\",**kwargs):\n",
    "    errs=np.zeros([4,11])\n",
    "    n=test_labels.shape[0]\n",
    "    for i in range(n):\n",
    "        if method=='adaptive':\n",
    "            pred_label=find_label_adaptive(i,**kwargs)\n",
    "        else:\n",
    "            pred_label=find_label_knn(i,**kwargs)\n",
    "\n",
    "        prediction=int(pred_label[0,0])\n",
    "        err = 0 #prediction error\n",
    "        labelSet=set(pred_label[0,:])\n",
    "        if prediction != test_labels[i]:\n",
    "            err=1 # incorrect prediction\n",
    "        if test_labels[i] in labelSet:\n",
    "            err+=2 # prediction in prediction set\n",
    "        multi=pred_label.shape[1]\n",
    "        if prediction==-1:\n",
    "            multi=0\n",
    "            err=1\n",
    "        errs[err,multi]+=1\n",
    "        if i%100==0:\n",
    "            print('\\r',i,end='')\n",
    "    errs=np.array(errs,dtype=np.int16)\n",
    "    print()       \n",
    "\n",
    "    print('size of set',''.join([\"%6d\"%x for x in range(11)]))\n",
    "    print('total      ',''.join([\"%6d\"%x for x in np.sum(errs,axis=0)]))\n",
    "    print('incorrect  ',''.join([\"%6d\"%x for x in np.sum(errs,axis=0)-errs[2,:]]))\n",
    "    #print('in set     ',''.join([\"%6d\"%x for x in errs[2,:]+errs[3,:]]))\n",
    "    print('not in set ',''.join([\"%6d\"%x for x in errs[0,:]+errs[1,:]]))\n",
    " "
   ]
  },
  {
   "cell_type": "code",
   "execution_count": 12,
   "metadata": {
    "ExecuteTime": {
     "end_time": "2019-04-24T05:33:48.220096Z",
     "start_time": "2019-04-24T05:32:18.188322Z"
    },
    "scrolled": false
   },
   "outputs": [
    {
     "name": "stdout",
     "output_type": "stream",
     "text": [
      "======================================== knn with k= 1\n",
      " 9900\n",
      "size of set      0     1     2     3     4     5     6     7     8     9    10\n",
      "total            0 10000     0     0     0     0     0     0     0     0     0\n",
      "incorrect        0   331     0     0     0     0     0     0     0     0     0\n",
      "not in set       0   331     0     0     0     0     0     0     0     0     0\n",
      "======================================== knn with k= 2\n",
      " 9900\n",
      "size of set      0     1     2     3     4     5     6     7     8     9    10\n",
      "total            0  9545   455     0     0     0     0     0     0     0     0\n",
      "incorrect        0   136   195     0     0     0     0     0     0     0     0\n",
      "not in set       0   136    53     0     0     0     0     0     0     0     0\n",
      "======================================== knn with k= 3\n",
      " 9900\n",
      "size of set      0     1     2     3     4     5     6     7     8     9    10\n",
      "total            0  9303   613    84     0     0     0     0     0     0     0\n",
      "incorrect        0    85   181    51     0     0     0     0     0     0     0\n",
      "not in set       0    85    41     9     0     0     0     0     0     0     0\n",
      "======================================== knn with k= 4\n",
      " 9900\n",
      "size of set      0     1     2     3     4     5     6     7     8     9    10\n",
      "total            0  9114   727   142    17     0     0     0     0     0     0\n",
      "incorrect        0    65   152    79    13     0     0     0     0     0     0\n",
      "not in set       0    65    25    14     1     0     0     0     0     0     0\n",
      "======================================== knn with k= 5\n",
      " 9900\n",
      "size of set      0     1     2     3     4     5     6     7     8     9    10\n",
      "total            0  8926   843   194    34     3     0     0     0     0     0\n",
      "incorrect        0    51   156    82    19     2     0     0     0     0     0\n",
      "not in set       0    51    22    10     5     0     0     0     0     0     0\n",
      "======================================== knn with k= 6\n",
      " 9900\n",
      "size of set      0     1     2     3     4     5     6     7     8     9    10\n",
      "total            0  8767   925   247    54     7     0     0     0     0     0\n",
      "incorrect        0    46   140    90    28     5     0     0     0     0     0\n",
      "not in set       0    46    19     9     6     0     0     0     0     0     0\n",
      "======================================== knn with k= 7\n",
      " 9900\n",
      "size of set      0     1     2     3     4     5     6     7     8     9    10\n",
      "total            0  8636   999   275    76    14     0     0     0     0     0\n",
      "incorrect        0    42   140    94    38    10     0     0     0     0     0\n",
      "not in set       0    42    17     8     7     1     0     0     0     0     0\n",
      "======================================== knn with k= 8\n",
      " 9900\n",
      "size of set      0     1     2     3     4     5     6     7     8     9    10\n",
      "total            0  8500  1065   322    91    22     0     0     0     0     0\n",
      "incorrect        0    38   126    98    46    14     0     0     0     0     0\n",
      "not in set       0    38    18     8     5     1     0     0     0     0     0\n",
      "======================================== knn with k= 9\n",
      " 9900\n",
      "size of set      0     1     2     3     4     5     6     7     8     9    10\n",
      "total            0  8345  1154   363   104    34     0     0     0     0     0\n",
      "incorrect        0    30   140    93    47    22     0     0     0     0     0\n",
      "not in set       0    30    19     8     3     2     0     0     0     0     0\n",
      "======================================== knn with k= 10\n",
      " 9900\n",
      "size of set      0     1     2     3     4     5     6     7     8     9    10\n",
      "total            0  8226  1198   404   129    38     5     0     0     0     0\n",
      "incorrect        0    24   136   100    55    25     2     0     0     0     0\n",
      "not in set       0    24    18     7     4     2     0     0     0     0     0\n",
      "======================================== adaptive NN with theta= 1\n",
      " 9900\n",
      "size of set      0     1     2     3     4     5     6     7     8     9    10\n",
      "total            0  9545   311   107    27    10     0     0     0     0     0\n",
      "incorrect        0   136    91    63    14     9     0     0     0     0     0\n",
      "not in set       0   136     9     4     2     1     0     0     0     0     0\n",
      "======================================== adaptive NN with theta= 2\n",
      " 9900\n",
      "size of set      0     1     2     3     4     5     6     7     8     9    10\n",
      "total            2  8931   791   218    53     4     0     1     0     0     0\n",
      "incorrect        2    51   203   121    44     4     0     1     0     0     0\n",
      "not in set       2    51    27    21     4     0     0     0     0     0     0\n",
      "======================================== adaptive NN with theta= 3\n",
      " 9900\n",
      "size of set      0     1     2     3     4     5     6     7     8     9    10\n",
      "total            6  8659   943   289    83    19     1     0     0     0     0\n",
      "incorrect        6    58   267   176    63    18     1     0     0     0     0\n",
      "not in set       6    58    29    19     7     0     0     0     0     0     0\n",
      "======================================== adaptive NN with theta= 4\n",
      " 9900\n",
      "size of set      0     1     2     3     4     5     6     7     8     9    10\n",
      "total           16  8442  1031   358   135    18     0     0     0     0     0\n",
      "incorrect       16    56   335   206    96    16     0     0     0     0     0\n",
      "not in set      16    56    26    24     9     1     0     0     0     0     0\n"
     ]
    }
   ],
   "source": [
    "for k in range(1,11):\n",
    "    print('='*40,'knn with k=',k)\n",
    "    errs=compute_errs('knn',k=k)\n",
    "\n",
    "for theta in range(1,5):\n",
    "    print('='*40,'adaptive NN with theta=',theta)\n",
    "    errs=compute_errs('adaptive',thr=theta)"
   ]
  },
  {
   "cell_type": "code",
   "execution_count": 78,
   "metadata": {
    "ExecuteTime": {
     "end_time": "2019-04-07T21:31:31.583640Z",
     "start_time": "2019-04-07T21:31:31.045415Z"
    }
   },
   "outputs": [
    {
     "name": "stdout",
     "output_type": "stream",
     "text": [
      "[2000, 2000, 2000, 2000, 2000, 2000, 2000, 2000, 2000, 30]\n"
     ]
    },
    {
     "data": {
      "image/png": "[encoded data removed]",
      "text/plain": [
       "<Figure size 432x288 with 1 Axes>"
      ]
     },
     "metadata": {
      "needs_background": "light"
     },
     "output_type": "display_data"
    },
    {
     "data": {
      "image/png": "[encoded data removed]",
      "text/plain": [
       "<Figure size 720x576 with 1 Axes>"
      ]
     },
     "metadata": {
      "needs_background": "light"
     },
     "output_type": "display_data"
    }
   ],
   "source": [
    "i=8520 # a 4 that looks like a 9\n",
    "i=20\n",
    "#i=23\n",
    "#i=320\n",
    "\n",
    "threshold=5\n",
    "L=labels[i]\n",
    "true_label=test_labels[i]\n",
    "imshow(test_images[i,:,:],cmap='gray')\n",
    "title(str(true_label))\n",
    "\n",
    "figure(figsize=[10,8])\n",
    "_range=200\n",
    "C=[]\n",
    "sig=[]\n",
    "scale=arange(1,_range+1,1)\n",
    "for i in range(10):\n",
    "    C.append(np.cumsum(L==i))\n",
    "    P=(C[-1][:_range]-(scale/10))/sqrt(scale)\n",
    "    sig.append(find_sig(P))\n",
    "    _name=str(i)\n",
    "    if i==true_label:\n",
    "        _name+= ' true label '\n",
    "    plot(P,label=_name)\n",
    "legend()\n",
    "grid()\n",
    "print(sig)"
   ]
  },
  {
   "cell_type": "code",
   "execution_count": 40,
   "metadata": {
    "ExecuteTime": {
     "end_time": "2019-04-07T21:11:06.075839Z",
     "start_time": "2019-04-07T21:11:06.071539Z"
    }
   },
   "outputs": [
    {
     "data": {
      "text/plain": [
       "array([-0.1       ,  0.56568542,  0.40414519,  0.3       ,  0.2236068 ,\n",
       "        0.16329932,  0.49135381,  0.42426407,  0.36666667,  0.63245553])"
      ]
     },
     "execution_count": 40,
     "metadata": {},
     "output_type": "execute_result"
    }
   ],
   "source": [
    "P[:10]"
   ]
  },
  {
   "cell_type": "code",
   "execution_count": 54,
   "metadata": {
    "ExecuteTime": {
     "end_time": "2019-04-07T21:15:38.549285Z",
     "start_time": "2019-04-07T21:15:38.545411Z"
    }
   },
   "outputs": [
    {
     "data": {
      "text/plain": [
       "(73,)"
      ]
     },
     "execution_count": 54,
     "metadata": {},
     "output_type": "execute_result"
    }
   ],
   "source": [
    "np.nonzero(P>1)[0].shape"
   ]
  },
  {
   "cell_type": "code",
   "execution_count": null,
   "metadata": {},
   "outputs": [],
   "source": []
  }
 ],
 "metadata": {
  "hide_input": false,
  "kernelspec": {
   "display_name": "Python 3",
   "language": "python",
   "name": "python3"
  },
  "language_info": {
   "codemirror_mode": {
    "name": "ipython",
    "version": 3
   },
   "file_extension": ".py",
   "mimetype": "text/x-python",
   "name": "python",
   "nbconvert_exporter": "python",
   "pygments_lexer": "ipython3",
   "version": "3.7.2"
  },
  "toc": {
   "base_numbering": 1,
   "nav_menu": {},
   "number_sections": true,
   "sideBar": true,
   "skip_h1_title": false,
   "title_cell": "Table of Contents",
   "title_sidebar": "Contents",
   "toc_cell": false,
   "toc_position": {},
   "toc_section_display": true,
   "toc_window_display": false
  }
 },
 "nbformat": 4,
 "nbformat_minor": 2
}
