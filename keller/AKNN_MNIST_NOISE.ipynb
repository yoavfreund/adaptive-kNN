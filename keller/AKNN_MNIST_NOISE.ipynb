{
 "cells": [
  {
   "cell_type": "markdown",
   "metadata": {},
   "source": [
    "See comments_results.ipynb for procedure + results summary"
   ]
  },
  {
   "cell_type": "code",
   "execution_count": 141,
   "metadata": {},
   "outputs": [],
   "source": [
    "%load_ext autoreload\n",
    "%autoreload 2"
   ]
  },
  {
   "cell_type": "code",
   "execution_count": 155,
   "metadata": {},
   "outputs": [],
   "source": [
    "import scipy as sp\n",
    "import numpy as np\n",
    "from sklearn.decomposition import TruncatedSVD\n",
    "\n",
    "import matplotlib.pyplot as plt\n",
    "\n",
    "import mnist\n",
    "\n",
    "import aknn"
   ]
  },
  {
   "cell_type": "code",
   "execution_count": 131,
   "metadata": {},
   "outputs": [],
   "source": [
    "LABELS = np.array(list('0123456789'))\n",
    "n_samples = 10000\n",
    "images = mnist.train_images()[:n_samples].astype(np.float32)\n",
    "samples = (2 * images.reshape(-1, 784) - 255.0) / 255.0\n",
    "svd = TruncatedSVD(25)\n",
    "samples = svd.fit_transform(samples)\n",
    "labels = mnist.train_labels()[:n_samples]"
   ]
  },
  {
   "cell_type": "code",
   "execution_count": 133,
   "metadata": {},
   "outputs": [],
   "source": [
    "nbrs_list = aknn.calc_nbrs_exact(samples, k=1000)"
   ]
  },
  {
   "cell_type": "code",
   "execution_count": 180,
   "metadata": {},
   "outputs": [
    {
     "name": "stdout",
     "output_type": "stream",
     "text": [
      "0.2067\n"
     ]
    }
   ],
   "source": [
    "# add noise\n",
    "\n",
    "left_rate = 0.0\n",
    "right_rate = 0.0\n",
    "\n",
    "left_frac = 0.2\n",
    "cutoff = 0\n",
    "while (samples[:, 0] < cutoff).mean() < left_frac:\n",
    "    cutoff += 0.1\n",
    "\n",
    "left_side = (samples[:, 0] < cutoff)\n",
    "right_side = ~left_side\n",
    "print(left_side.mean())\n",
    "\n",
    "n_samples = len(samples)\n",
    "\n",
    "left_mask = left_side & (np.random.sample(n_samples) < left_rate)\n",
    "right_mask = right_side & (np.random.sample(n_samples) < right_rate)\n",
    "\n",
    "noise_labels = labels.copy()\n",
    "noise_labels[left_mask] = np.random.choice(LABELS, left_mask.sum())\n",
    "noise_labels[right_mask] = np.random.choice(LABELS, right_mask.sum())"
   ]
  },
  {
   "cell_type": "code",
   "execution_count": 181,
   "metadata": {},
   "outputs": [
    {
     "data": {
      "image/png": "[encoded data removed]",
      "text/plain": [
       "<Figure size 432x288 with 1 Axes>"
      ]
     },
     "metadata": {
      "needs_background": "light"
     },
     "output_type": "display_data"
    }
   ],
   "source": [
    "plt.hist(samples[:, 0], bins=50)\n",
    "plt.vlines([cutoff, samples[:, 0].mean()], 0, 500)\n",
    "plt.show()"
   ]
  },
  {
   "cell_type": "code",
   "execution_count": 182,
   "metadata": {
    "scrolled": false
   },
   "outputs": [
    {
     "name": "stdout",
     "output_type": "stream",
     "text": [
      "KNN accuracy (k = 2): \t\t0.9511\n",
      "AKNN accuracy (k <= 2): \t0.9823 \t\t Coverage: 0.941\n",
      "\n",
      "KNN accuracy (k = 3): \t\t0.9578\n",
      "AKNN accuracy (k <= 3): \t0.9823 \t\t Coverage: 0.941\n",
      "\n",
      "KNN accuracy (k = 5): \t\t0.9571\n",
      "AKNN accuracy (k <= 5): \t0.9672 \t\t Coverage: 0.988\n",
      "\n",
      "KNN accuracy (k = 7): \t\t0.9532\n",
      "AKNN accuracy (k <= 7): \t0.9657 \t\t Coverage: 0.991\n",
      "\n",
      "KNN accuracy (k = 8): \t\t0.9544\n",
      "AKNN accuracy (k <= 8): \t0.9640 \t\t Coverage: 0.993\n",
      "\n",
      "KNN accuracy (k = 10): \t\t0.9524\n",
      "AKNN accuracy (k <= 10): \t0.9623 \t\t Coverage: 0.995\n",
      "\n",
      "KNN accuracy (k = 30): \t\t0.9385\n",
      "AKNN accuracy (k <= 30): \t0.9593 \t\t Coverage: 1.000\n",
      "\n",
      "KNN accuracy (k = 99): \t\t0.9153\n",
      "AKNN accuracy (k <= 99): \t0.9589 \t\t Coverage: 1.000\n",
      "\n",
      "Full AKNN accuracy: 0.9589\n"
     ]
    }
   ],
   "source": [
    "# get aknn predictions\n",
    "aknn_pred, aknn_ks = aknn.predict_nn_rule(nbrs_list, noise_labels)\n",
    "aknn_correct = (aknn_pred == labels)\n",
    "\n",
    "for k in [2, 3, 5, 7, 8, 10, 30, 99]:\n",
    "    # get knn predictions\n",
    "    knn_pred = aknn.knn_rule(nbrs_list, noise_labels, k)\n",
    "    knn_correct = (knn_pred == labels)\n",
    "    # sample aknn predictions where less than k neighbors used\n",
    "    aknn_cov_ndces = (aknn_ks <= k)\n",
    "    aknn_cover = aknn_cov_ndces.mean()\n",
    "    aknn_cond_acc = aknn_correct[aknn_cov_ndces].mean()\n",
    "    # print\n",
    "    print('KNN accuracy (k = %d): \\t\\t%.4f' % (k, knn_correct.mean()))\n",
    "    print('AKNN accuracy (k <= %d): \\t%.4f \\t\\t Coverage: %.3f\\n' % (k, aknn_cond_acc, aknn_cover))\n",
    "print('Full AKNN accuracy: %s' % aknn_correct.mean())"
   ]
  },
  {
   "cell_type": "code",
   "execution_count": 186,
   "metadata": {},
   "outputs": [],
   "source": [
    "# get the absolute best k\n",
    "hi, hi_k = 0, 1\n",
    "for k in np.arange(2, 30):\n",
    "    # get knn predictions\n",
    "    knn_pred = aknn.knn_rule(nbrs_list, noise_labels, k)\n",
    "    knn_acc = (knn_pred == labels).mean()\n",
    "    if knn_acc > hi:\n",
    "        hi, hi_k = knn_acc, k"
   ]
  },
  {
   "cell_type": "code",
   "execution_count": 187,
   "metadata": {},
   "outputs": [
    {
     "data": {
      "text/plain": [
       "(0.9578, 3)"
      ]
     },
     "execution_count": 187,
     "metadata": {},
     "output_type": "execute_result"
    }
   ],
   "source": [
    "hi, hi_k"
   ]
  }
 ],
 "metadata": {
  "kernelspec": {
   "display_name": "Python 3",
   "language": "python",
   "name": "python3"
  },
  "language_info": {
   "codemirror_mode": {
    "name": "ipython",
    "version": 3
   },
   "file_extension": ".py",
   "mimetype": "text/x-python",
   "name": "python",
   "nbconvert_exporter": "python",
   "pygments_lexer": "ipython3",
   "version": "3.7.3"
  }
 },
 "nbformat": 4,
 "nbformat_minor": 2
}
