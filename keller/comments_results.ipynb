{
 "cells": [
  {
   "cell_type": "markdown",
   "metadata": {},
   "source": [
    "## KNN vs AKNN on split-noise dataset"
   ]
  },
  {
   "cell_type": "markdown",
   "metadata": {},
   "source": [
    "For NotMNIST dataset:\n",
    "\n",
    "* both AKNN and KNN are better/faster after passing data through SVD(25). of course this is also necessary for ATREEs.\n",
    "* KNN performs at about 89% for the entire range of 5 < k < 30, so noise experiments are not very informative, and AKNN cannot do much better."
   ]
  },
  {
   "cell_type": "markdown",
   "metadata": {},
   "source": [
    "On the other hand, for MNIST:\n",
    "\n",
    "Procedure:\n",
    "1. split the data by first principal component, such that 20% falls on left and 80% on right of cutoff.\n",
    "2. add 70% label-noise to the left (20%) side.\n",
    "3. run KNN with wide range of k's, and AKNN.\n",
    "\n",
    "Results:\n",
    "* AKNN overall accuracy: 0.9495\n",
    "* KNN best accuracy: 0.9414 (k=16)\n",
    "\n",
    "In comparison, with no noise:\n",
    "* AKNN gets 0.9589\n",
    "* KNN best: 0.9578 (k=3)"
   ]
  },
  {
   "cell_type": "markdown",
   "metadata": {},
   "source": [
    "## ATREEs"
   ]
  },
  {
   "cell_type": "markdown",
   "metadata": {},
   "source": [
    "Procedure to form one atree:\n",
    "1. pass data through svd(25)\n",
    "2. form kd tree using svd-given ordering of dimensions. random ordering seems to perform worse.\n",
    "\n",
    "Procedure to evaluate one atree:\n",
    "* exact same as for AKNN, but with rectangles as sequence of specialists\n",
    "\n",
    "Procedure to form/evaluate adaptive-forest:\n",
    "1. form 50 atrees\n",
    "2. use basic ensembling rule (predict plurality) w.r.t. all predictions\n",
    "\n",
    "Some numerical reults on NotMNIST:\n",
    "* SVD(25) -> logistic regression: 0.88\n",
    "* best KNN: 0.884\n",
    "* AKNN: 0.893\n",
    "* SVD(25) -> AFOREST (100 trees): 0.884"
   ]
  }
 ],
 "metadata": {
  "kernelspec": {
   "display_name": "Python 3",
   "language": "python",
   "name": "python3"
  },
  "language_info": {
   "codemirror_mode": {
    "name": "ipython",
    "version": 3
   },
   "file_extension": ".py",
   "mimetype": "text/x-python",
   "name": "python",
   "nbconvert_exporter": "python",
   "pygments_lexer": "ipython3",
   "version": "3.7.3"
  }
 },
 "nbformat": 4,
 "nbformat_minor": 2
}
