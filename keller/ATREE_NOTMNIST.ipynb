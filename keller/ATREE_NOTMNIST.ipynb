{
 "cells": [
  {
   "cell_type": "markdown",
   "metadata": {},
   "source": [
    "# ATREE_NOTMNIST\n",
    "\n",
    "I am doing a train-test split here, since otherwise the structure of the tree will depend on the point being evaluated. However, in an active learning scenario we do not need to do this split and just need to subtract the label of the point.\n",
    "\n",
    "## Conclusions...\n",
    "\n",
    "KD-Trees work terribly when splits are done directly on high-dimensional data, so must use SVD first."
   ]
  },
  {
   "cell_type": "code",
   "execution_count": 1,
   "metadata": {},
   "outputs": [],
   "source": [
    "%load_ext autoreload\n",
    "%autoreload 2"
   ]
  },
  {
   "cell_type": "code",
   "execution_count": 348,
   "metadata": {},
   "outputs": [],
   "source": [
    "from collections import Counter\n",
    "\n",
    "import scipy as sp\n",
    "import scipy.io\n",
    "import numpy as np\n",
    "\n",
    "import matplotlib.pyplot as plt\n",
    "from sklearn.model_selection import train_test_split\n",
    "from sklearn.decomposition import TruncatedSVD\n",
    "\n",
    "from kdtree import KDTree"
   ]
  },
  {
   "cell_type": "markdown",
   "metadata": {},
   "source": [
    "The number of SVD components is in question."
   ]
  },
  {
   "cell_type": "code",
   "execution_count": 332,
   "metadata": {},
   "outputs": [],
   "source": [
    "INT2LABEL = np.array(list('ABCDEFGHIJ'))\n",
    "\n",
    "data = sp.io.loadmat(\"notMNIST_small.mat\")\n",
    "\n",
    "images = data['images'].transpose(2, 0, 1)\n",
    "samples = (2 * images.reshape(-1, 784) - 255.0) / 255.0\n",
    "\n",
    "n_components = 50\n",
    "samples = TruncatedSVD(n_components).fit_transform(samples)\n",
    "\n",
    "labels = data['labels'].astype(int)\n",
    "labels = INT2LABEL[labels]\n",
    "\n",
    "trnI, devI, trnX, devX, trnY, devY = train_test_split(images, samples, labels, test_size=0.1)"
   ]
  },
  {
   "cell_type": "code",
   "execution_count": 335,
   "metadata": {
    "scrolled": false
   },
   "outputs": [],
   "source": [
    "tree = KDTree(trnX, trnY)"
   ]
  },
  {
   "cell_type": "code",
   "execution_count": 342,
   "metadata": {},
   "outputs": [],
   "source": [
    "def get_pred(seq, conf=1.0, verbose=False):\n",
    "    for n in seq[::-1]:\n",
    "        cnts = n.label_cnts\n",
    "        pred = max(list(INT2LABEL), key=lambda k: cnts[k])\n",
    "        k = sum(cnts.values())\n",
    "        eta = (cnts[pred] / k) - (1 / len(INT2LABEL))\n",
    "        delta = conf / np.sqrt(k)\n",
    "        if verbose:\n",
    "            print('%s \\t eta=%.3f \\t delta=%.3f \\t k=%d' % (pred, eta, delta, k))\n",
    "        if eta >= delta:\n",
    "            return pred"
   ]
  },
  {
   "cell_type": "code",
   "execution_count": 344,
   "metadata": {},
   "outputs": [
    {
     "name": "stdout",
     "output_type": "stream",
     "text": [
      "Actual point has label H\n"
     ]
    },
    {
     "data": {
      "image/png": "[encoded data removed]",
      "text/plain": [
       "<Figure size 432x288 with 1 Axes>"
      ]
     },
     "metadata": {
      "needs_background": "light"
     },
     "output_type": "display_data"
    },
    {
     "name": "stdout",
     "output_type": "stream",
     "text": [
      "H \t eta=0.567 \t delta=0.577 \t k=3\n",
      "H \t eta=0.650 \t delta=0.500 \t k=4\n"
     ]
    },
    {
     "data": {
      "text/plain": [
       "'H'"
      ]
     },
     "execution_count": 344,
     "metadata": {},
     "output_type": "execute_result"
    }
   ],
   "source": [
    "idx = np.random.randint(devY.size)\n",
    "im, x, y = devI[idx], devX[idx], devY[idx]\n",
    "print('Actual point has label %s' % y)\n",
    "plt.imshow(im, cmap='Greys')\n",
    "plt.show()\n",
    "\n",
    "get_pred(tree.get_node_seq(x), verbose=True)"
   ]
  },
  {
   "cell_type": "code",
   "execution_count": 347,
   "metadata": {},
   "outputs": [],
   "source": [
    "trees = [KDTree(trnX, trnY) for _ in range(20)]"
   ]
  },
  {
   "cell_type": "code",
   "execution_count": 351,
   "metadata": {
    "scrolled": true
   },
   "outputs": [
    {
     "name": "stdout",
     "output_type": "stream",
     "text": [
      "accuracy of atree rule is 0.8596\n"
     ]
    }
   ],
   "source": [
    "res = []\n",
    "for x, y in zip(devX, devY):\n",
    "    preds = []\n",
    "    for tree in trees:\n",
    "        seq = tree.get_node_seq(x)\n",
    "        preds.append(get_pred(seq, conf=1.0))\n",
    "    pred = Counter(preds).most_common(1)[0][0]\n",
    "    res.append(pred == y)\n",
    "print('accuracy of atree rule is %.4f' % np.array(res).mean())"
   ]
  }
 ],
 "metadata": {
  "kernelspec": {
   "display_name": "Python 3",
   "language": "python",
   "name": "python3"
  },
  "language_info": {
   "codemirror_mode": {
    "name": "ipython",
    "version": 3
   },
   "file_extension": ".py",
   "mimetype": "text/x-python",
   "name": "python",
   "nbconvert_exporter": "python",
   "pygments_lexer": "ipython3",
   "version": "3.7.3"
  }
 },
 "nbformat": 4,
 "nbformat_minor": 2
}
