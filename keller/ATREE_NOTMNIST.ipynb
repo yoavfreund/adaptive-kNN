{
 "cells": [
  {
   "cell_type": "markdown",
   "metadata": {},
   "source": [
    "# ATREE_NOTMNIST\n",
    "\n",
    "I am doing a train-test split here, since otherwise the structure of the tree will depend on the point being evaluated. However, in an active learning scenario we do not need to do this split and just need to subtract the label of the point.\n",
    "\n",
    "## Conclusions...\n",
    "\n",
    "KD-Trees work terribly when splits are done directly on high-dimensional data, so must use SVD first."
   ]
  },
  {
   "cell_type": "code",
   "execution_count": 1,
   "metadata": {},
   "outputs": [],
   "source": [
    "%load_ext autoreload\n",
    "%autoreload 2"
   ]
  },
  {
   "cell_type": "code",
   "execution_count": 348,
   "metadata": {},
   "outputs": [],
   "source": [
    "from collections import Counter\n",
    "\n",
    "import scipy as sp\n",
    "import scipy.io\n",
    "import numpy as np\n",
    "\n",
    "import matplotlib.pyplot as plt\n",
    "from sklearn.model_selection import train_test_split\n",
    "from sklearn.decomposition import TruncatedSVD\n",
    "\n",
    "from kdtree import KDTree"
   ]
  },
  {
   "cell_type": "markdown",
   "metadata": {},
   "source": [
    "The number of SVD components is in question."
   ]
  },
  {
   "cell_type": "code",
   "execution_count": 415,
   "metadata": {},
   "outputs": [],
   "source": [
    "INT2LABEL = np.array(list('ABCDEFGHIJ'))\n",
    "\n",
    "data = sp.io.loadmat(\"notMNIST_small.mat\")\n",
    "\n",
    "images = data['images'].transpose(2, 0, 1)\n",
    "samples = (2 * images.reshape(-1, 784) - 255.0) / 255.0\n",
    "\n",
    "n_components = 25\n",
    "samples = TruncatedSVD(n_components).fit_transform(samples)\n",
    "\n",
    "labels = data['labels'].astype(int)\n",
    "labels = INT2LABEL[labels]\n",
    "\n",
    "trnI, devI, trnX, devX, trnY, devY = train_test_split(images, samples, labels, test_size=0.1)\n",
    "allX = np.concatenate([trnX, devX])\n",
    "allY = np.concatenate([trnY, devY])\n",
    "maskY = allY.copy()\n",
    "maskY[trnY.size:] = 'NA'"
   ]
  },
  {
   "cell_type": "code",
   "execution_count": 416,
   "metadata": {
    "scrolled": false
   },
   "outputs": [],
   "source": [
    "tree = KDTree(allX, maskY)"
   ]
  },
  {
   "cell_type": "code",
   "execution_count": 417,
   "metadata": {
    "scrolled": false
   },
   "outputs": [
    {
     "name": "stdout",
     "output_type": "stream",
     "text": [
      "Actual point has label J\n"
     ]
    },
    {
     "data": {
      "image/png": "[encoded data removed]",
      "text/plain": [
       "<Figure size 432x288 with 1 Axes>"
      ]
     },
     "metadata": {
      "needs_background": "light"
     },
     "output_type": "display_data"
    },
    {
     "name": "stdout",
     "output_type": "stream",
     "text": [
      "J \t eta=0.900 \t delta=0.707 \t k=2\n",
      "single tree predicted J\n"
     ]
    }
   ],
   "source": [
    "idx = np.random.randint(devY.size)\n",
    "im, x, y = devI[idx], devX[idx], devY[idx]\n",
    "print('Actual point has label %s' % y)\n",
    "plt.imshow(im, cmap='Greys')\n",
    "plt.show()\n",
    "\n",
    "print('single tree predicted %s' % tree.get_pred(x, verbose=True))"
   ]
  },
  {
   "cell_type": "code",
   "execution_count": 401,
   "metadata": {},
   "outputs": [],
   "source": [
    "def evaluate_rule(rule):\n",
    "    correct = [rule(x) == y for x, y in zip(devX, devY)]\n",
    "    return np.array(correct).mean()"
   ]
  },
  {
   "cell_type": "markdown",
   "metadata": {},
   "source": [
    "## Accuracy of single tree"
   ]
  },
  {
   "cell_type": "code",
   "execution_count": 418,
   "metadata": {},
   "outputs": [
    {
     "name": "stdout",
     "output_type": "stream",
     "text": [
      "accuracy of single atree is 0.7395\n"
     ]
    }
   ],
   "source": [
    "rule = lambda x: tree.get_pred(x, conf=1.0)\n",
    "acc = evaluate_rule(rule)\n",
    "print('accuracy of single atree is %.4f' % acc)"
   ]
  },
  {
   "cell_type": "markdown",
   "metadata": {},
   "source": [
    "## Ensemble / adaptive-forest"
   ]
  },
  {
   "cell_type": "code",
   "execution_count": 419,
   "metadata": {},
   "outputs": [],
   "source": [
    "trees = [KDTree(allX, maskY) for _ in range(20)]"
   ]
  },
  {
   "cell_type": "code",
   "execution_count": 420,
   "metadata": {},
   "outputs": [
    {
     "name": "stdout",
     "output_type": "stream",
     "text": [
      "accuracy of a-forest is 0.8884\n"
     ]
    }
   ],
   "source": [
    "def rule(x):\n",
    "    preds = [tree.get_pred(x, conf=1.0) for tree in trees]\n",
    "    return Counter(preds).most_common(1)[0][0]\n",
    "\n",
    "acc = evaluate_rule(rule)\n",
    "print('accuracy of a-forest is %.4f' % acc)"
   ]
  }
 ],
 "metadata": {
  "kernelspec": {
   "display_name": "Python 3",
   "language": "python",
   "name": "python3"
  },
  "language_info": {
   "codemirror_mode": {
    "name": "ipython",
    "version": 3
   },
   "file_extension": ".py",
   "mimetype": "text/x-python",
   "name": "python",
   "nbconvert_exporter": "python",
   "pygments_lexer": "ipython3",
   "version": "3.7.3"
  }
 },
 "nbformat": 4,
 "nbformat_minor": 2
}
