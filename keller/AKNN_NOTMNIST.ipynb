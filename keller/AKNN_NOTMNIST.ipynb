{
 "cells": [
  {
   "cell_type": "markdown",
   "metadata": {},
   "source": [
    "modified replica of https://github.com/b-akshay/aknn-classifier/blob/master/examples/aknn_usage.ipynb"
   ]
  },
  {
   "cell_type": "code",
   "execution_count": 1,
   "metadata": {},
   "outputs": [],
   "source": [
    "import scipy as sp\n",
    "import numpy as np\n",
    "import aknn"
   ]
  },
  {
   "cell_type": "code",
   "execution_count": 2,
   "metadata": {},
   "outputs": [],
   "source": [
    "INT2LABEL = np.array(list('ABCDEFGHIJ'))\n",
    "data = sp.io.loadmat(\"notMNIST_small.mat\")\n",
    "images = data['images'].transpose(2, 0, 1)\n",
    "samples = (2 * images.reshape(-1, 784) - 255.0) / 255.0\n",
    "labels = data['labels'].astype(int)\n",
    "labels = INT2LABEL[labels]"
   ]
  },
  {
   "cell_type": "code",
   "execution_count": 3,
   "metadata": {},
   "outputs": [],
   "source": [
    "nbrs_list = aknn.calc_nbrs_exact(samples, k=1000)"
   ]
  },
  {
   "cell_type": "code",
   "execution_count": 6,
   "metadata": {},
   "outputs": [
    {
     "name": "stdout",
     "output_type": "stream",
     "text": [
      "KNN accuracy (k = 2): \t\t0.8599\n",
      "AKNN accuracy (k <= 2): \t0.9702 \t\t Coverage: 0.838\n",
      "\n",
      "KNN accuracy (k = 3): \t\t0.8749\n",
      "AKNN accuracy (k <= 3): \t0.9702 \t\t Coverage: 0.838\n",
      "\n",
      "KNN accuracy (k = 5): \t\t0.8833\n",
      "AKNN accuracy (k <= 5): \t0.9450 \t\t Coverage: 0.918\n",
      "\n",
      "KNN accuracy (k = 7): \t\t0.8836\n",
      "AKNN accuracy (k <= 7): \t0.9408 \t\t Coverage: 0.926\n",
      "\n",
      "KNN accuracy (k = 8): \t\t0.8835\n",
      "AKNN accuracy (k <= 8): \t0.9362 \t\t Coverage: 0.936\n",
      "\n",
      "KNN accuracy (k = 10): \t\t0.8823\n",
      "AKNN accuracy (k <= 10): \t0.9322 \t\t Coverage: 0.943\n",
      "\n",
      "KNN accuracy (k = 30): \t\t0.8768\n",
      "AKNN accuracy (k <= 30): \t0.9159 \t\t Coverage: 0.969\n",
      "\n",
      "KNN accuracy (k = 99): \t\t0.8592\n",
      "AKNN accuracy (k <= 99): \t0.9072 \t\t Coverage: 0.982\n",
      "\n",
      "Full AKNN accuracy: 0.8925977355265969\n"
     ]
    }
   ],
   "source": [
    "# get aknn predictions\n",
    "aknn_pred, aknn_ks = aknn.predict_nn_rule(nbrs_list, labels)\n",
    "aknn_correct = (aknn_pred == labels)\n",
    "\n",
    "for k in [2, 3, 5, 7, 8, 10, 30, 99]:\n",
    "    # get knn predictions\n",
    "    knn_pred = aknn.knn_rule(nbrs_list, labels, k)\n",
    "    knn_correct = (knn_pred == labels)\n",
    "    # sample aknn predictions where less than k neighbors used\n",
    "    aknn_cov_ndces = (aknn_ks <= k)\n",
    "    aknn_cover = aknn_cov_ndces.mean()\n",
    "    aknn_cond_acc = aknn_correct[aknn_cov_ndces].mean()\n",
    "    # print\n",
    "    print('KNN accuracy (k = %d): \\t\\t%.4f' % (k, knn_correct.mean()))\n",
    "    print('AKNN accuracy (k <= %d): \\t%.4f \\t\\t Coverage: %.3f\\n' % (k, aknn_cond_acc, aknn_cover))\n",
    "print('Full AKNN accuracy: %s' % aknn_correct.mean())"
   ]
  },
  {
   "cell_type": "code",
   "execution_count": 9,
   "metadata": {},
   "outputs": [
    {
     "name": "stdout",
     "output_type": "stream",
     "text": [
      "0.8836 (k=7)\n"
     ]
    }
   ],
   "source": [
    "# get the absolute best k\n",
    "hi, hi_k = 0, 1\n",
    "for k in np.arange(2, 30):\n",
    "    # get knn predictions\n",
    "    knn_pred = aknn.knn_rule(nbrs_list, labels, k)\n",
    "    knn_acc = (knn_pred == labels).mean()\n",
    "    if knn_acc > hi:\n",
    "        hi, hi_k = knn_acc, k\n",
    "print('%.4f (k=%d)' % (hi, hi_k))"
   ]
  }
 ],
 "metadata": {
  "kernelspec": {
   "display_name": "Python 3",
   "language": "python",
   "name": "python3"
  },
  "language_info": {
   "codemirror_mode": {
    "name": "ipython",
    "version": 3
   },
   "file_extension": ".py",
   "mimetype": "text/x-python",
   "name": "python",
   "nbconvert_exporter": "python",
   "pygments_lexer": "ipython3",
   "version": "3.7.3"
  }
 },
 "nbformat": 4,
 "nbformat_minor": 2
}
