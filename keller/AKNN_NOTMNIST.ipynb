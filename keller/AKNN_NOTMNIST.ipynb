{
 "cells": [
  {
   "cell_type": "markdown",
   "metadata": {},
   "source": [
    "modified replica of https://github.com/b-akshay/aknn-classifier/blob/master/examples/aknn_usage.ipynb"
   ]
  },
  {
   "cell_type": "code",
   "execution_count": 17,
   "metadata": {},
   "outputs": [],
   "source": [
    "import scipy as sp\n",
    "import numpy as np\n",
    "import aknn"
   ]
  },
  {
   "cell_type": "code",
   "execution_count": 72,
   "metadata": {},
   "outputs": [],
   "source": [
    "INT2LABEL = np.array(list('ABCDEFGHIJ'))\n",
    "data = sp.io.loadmat(\"notMNIST_small.mat\")\n",
    "images = data['images'].transpose(2, 0, 1)\n",
    "samples = (2 * images.reshape(-1, 784) - 255.0) / 255.0\n",
    "labels = data['labels'].astype(int)\n",
    "labels = INT2LABEL[labels]"
   ]
  },
  {
   "cell_type": "code",
   "execution_count": 14,
   "metadata": {},
   "outputs": [],
   "source": [
    "nbrs_list = aknn.calc_nbrs_exact(samples, k=1000)"
   ]
  },
  {
   "cell_type": "code",
   "execution_count": 52,
   "metadata": {},
   "outputs": [],
   "source": [
    "aknn_pred, aknn_ks = aknn.predict_nn_rule(nbrs_list, labels)"
   ]
  },
  {
   "cell_type": "code",
   "execution_count": 62,
   "metadata": {
    "scrolled": false
   },
   "outputs": [
    {
     "name": "stdout",
     "output_type": "stream",
     "text": [
      "KNN accuracy (k = 2): \t\t0.8598590044862209\n",
      "AKNN accuracy (k <= 2): \t0.9701739850869926 \t\t Coverage: \t0.838015381328776\n",
      "\n",
      "KNN accuracy (k = 3): \t\t0.8749198889126255\n",
      "AKNN accuracy (k <= 3): \t0.9701739850869926 \t\t Coverage: \t0.838015381328776\n",
      "\n",
      "KNN accuracy (k = 5): \t\t0.8833048493911557\n",
      "AKNN accuracy (k <= 5): \t0.9450261780104712 \t\t Coverage: \t0.9180730613116855\n",
      "\n",
      "KNN accuracy (k = 7): \t\t0.8836252937406537\n",
      "AKNN accuracy (k <= 7): \t0.9407625310030571 \t\t Coverage: \t0.9259239478743858\n",
      "\n",
      "KNN accuracy (k = 8): \t\t0.8834650715659047\n",
      "AKNN accuracy (k <= 8): \t0.9361872146118722 \t\t Coverage: \t0.935697500534074\n",
      "\n",
      "KNN accuracy (k = 10): \t\t0.8822901089510788\n",
      "AKNN accuracy (k <= 10): \t0.9321813031161473 \t\t Coverage: \t0.9426404614398632\n",
      "\n",
      "KNN accuracy (k = 30): \t\t0.8767891476180303\n",
      "AKNN accuracy (k <= 30): \t0.9158672400485169 \t\t Coverage: \t0.9687032685323649\n",
      "\n",
      "KNN accuracy (k = 99): \t\t0.859218115787225\n",
      "AKNN accuracy (k <= 99): \t0.9071918180829072 \t\t Coverage: \t0.9817346720786156\n",
      "\n",
      "Full AKNN accuracy: 0.8925977355265969\n"
     ]
    }
   ],
   "source": [
    "aknn_correct = aknn_pred == labels\n",
    "for k in [2, 3, 5, 7, 8, 10, 30, 99]:\n",
    "    # get knn predictions\n",
    "    knn_pred = aknn.knn_rule(nbrs_list, labels, k)\n",
    "    knn_correct = knn_pred == labels\n",
    "    # sample aknn predictions where less than k neighbors used\n",
    "    aknn_cov_ndces = aknn_ks <= k\n",
    "    aknn_cover = aknn_cov_ndces.mean()\n",
    "    aknn_cond_acc = aknn_correct[aknn_cov_ndces].mean()\n",
    "    # print\n",
    "    print('KNN accuracy (k = %d): \\t\\t%s' % (k, knn_correct.mean()))\n",
    "    print('AKNN accuracy (k <= %d): \\t%s \\t\\t Coverage: \\t%s\\n' % (k, aknn_cond_acc, aknn_cover))\n",
    "print('Full AKNN accuracy: %s' % aknn_correct.mean())"
   ]
  }
 ],
 "metadata": {
  "kernelspec": {
   "display_name": "Python 3",
   "language": "python",
   "name": "python3"
  },
  "language_info": {
   "codemirror_mode": {
    "name": "ipython",
    "version": 3
   },
   "file_extension": ".py",
   "mimetype": "text/x-python",
   "name": "python",
   "nbconvert_exporter": "python",
   "pygments_lexer": "ipython3",
   "version": "3.7.3"
  }
 },
 "nbformat": 4,
 "nbformat_minor": 2
}
