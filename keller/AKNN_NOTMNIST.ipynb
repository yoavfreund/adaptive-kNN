{
 "cells": [
  {
   "cell_type": "markdown",
   "metadata": {},
   "source": [
    "modified replica of https://github.com/b-akshay/aknn-classifier/blob/master/examples/aknn_usage.ipynb"
   ]
  },
  {
   "cell_type": "code",
   "execution_count": 43,
   "metadata": {},
   "outputs": [
    {
     "name": "stdout",
     "output_type": "stream",
     "text": [
      "--2019-06-30 02:37:01--  http://yaroslavvb.com/upload/notMNIST/notMNIST_small.mat\n",
      "Resolving yaroslavvb.com (yaroslavvb.com)... 129.121.4.193\n",
      "Connecting to yaroslavvb.com (yaroslavvb.com)|129.121.4.193|:80... connected.\n",
      "HTTP request sent, awaiting response... 200 OK\n",
      "Length: 117586976 (112M) [text/plain]\n",
      "Saving to: ‘notMNIST_small.mat’\n",
      "\n",
      "notMNIST_small.mat  100%[===================>] 112.14M  33.4MB/s    in 3.7s    \n",
      "\n",
      "2019-06-30 02:37:04 (30.4 MB/s) - ‘notMNIST_small.mat’ saved [117586976/117586976]\n",
      "\n"
     ]
    }
   ],
   "source": [
    "!wget http://yaroslavvb.com/upload/notMNIST/notMNIST_small.mat"
   ]
  },
  {
   "cell_type": "code",
   "execution_count": 39,
   "metadata": {
    "scrolled": true
   },
   "outputs": [
    {
     "name": "stdout",
     "output_type": "stream",
     "text": [
      "              total        used        free      shared  buff/cache   available\r\n",
      "Mem:          52339        6490       39909          11        5939       45221\r\n",
      "Swap:             0           0           0\r\n"
     ]
    }
   ],
   "source": [
    "!free -m"
   ]
  },
  {
   "cell_type": "code",
   "execution_count": 17,
   "metadata": {},
   "outputs": [],
   "source": [
    "import scipy as sp\n",
    "import numpy as np\n",
    "import aknn"
   ]
  },
  {
   "cell_type": "code",
   "execution_count": 38,
   "metadata": {},
   "outputs": [],
   "source": [
    "data = sp.io.loadmat(\"notMNIST_small.mat\")\n",
    "images = data['images'].reshape(784, -1)\n",
    "nmn = (2 * images.T - 255.0) / 255.0\n",
    "labels = data['labels'].astype(int)\n",
    "labels = np.array(list('ABCDEFGHIJ'))[labels]"
   ]
  },
  {
   "cell_type": "code",
   "execution_count": 14,
   "metadata": {},
   "outputs": [],
   "source": [
    "nbrs_list = aknn.calc_nbrs_exact(nmn, k=1000)"
   ]
  },
  {
   "cell_type": "code",
   "execution_count": 15,
   "metadata": {},
   "outputs": [],
   "source": [
    "aknn_predictions = aknn.predict_nn_rule(nbrs_list, labels)"
   ]
  },
  {
   "cell_type": "code",
   "execution_count": 42,
   "metadata": {
    "scrolled": false
   },
   "outputs": [
    {
     "name": "stdout",
     "output_type": "stream",
     "text": [
      "3-NN accuracy: \t\t0.8749198889126255\n",
      "AKNN accuracy (k <= 3): \t0.9701739850869926 \t\t Coverage: \t0.838015381328776\n",
      "\n",
      "5-NN accuracy: \t\t0.8833048493911557\n",
      "AKNN accuracy (k <= 5): \t0.9450261780104712 \t\t Coverage: \t0.9180730613116855\n",
      "\n",
      "7-NN accuracy: \t\t0.8836252937406537\n",
      "AKNN accuracy (k <= 7): \t0.9407625310030571 \t\t Coverage: \t0.9259239478743858\n",
      "\n",
      "8-NN accuracy: \t\t0.8834650715659047\n",
      "AKNN accuracy (k <= 8): \t0.9361872146118722 \t\t Coverage: \t0.935697500534074\n",
      "\n",
      "10-NN accuracy: \t\t0.8822901089510788\n",
      "AKNN accuracy (k <= 10): \t0.9321813031161473 \t\t Coverage: \t0.9426404614398632\n",
      "\n",
      "30-NN accuracy: \t\t0.8767891476180303\n",
      "AKNN accuracy (k <= 30): \t0.9158672400485169 \t\t Coverage: \t0.9687032685323649\n",
      "\n",
      "100-NN accuracy: \t\t0.858577227088229\n",
      "AKNN accuracy (k <= 100): \t0.9071918180829072 \t\t Coverage: \t0.9817346720786156\n",
      "\n",
      "Overall AKNN accuracy: 0.8925977355265969\n"
     ]
    }
   ],
   "source": [
    "for k in [3,5,7,8,10,30,100]:\n",
    "    knn_predictions = aknn.knn_rule(nbrs_list, labels, k=k)\n",
    "    aknn_cov_ndces = aknn_predictions[1] <= k\n",
    "    aknn_cov = np.mean(aknn_cov_ndces)\n",
    "    aknn_condacc = np.mean((aknn_predictions[0] == labels)[aknn_cov_ndces])\n",
    "    print('%s-NN accuracy: \\t\\t%s' % (k, np.mean(knn_predictions == labels)))\n",
    "    print('AKNN accuracy (k <= %s): \\t%s \\t\\t Coverage: \\t%s\\n' % (k, aknn_condacc, aknn_cov))\n",
    "print('Overall AKNN accuracy: %s' % np.mean(aknn_predictions[0] == labels))"
   ]
  }
 ],
 "metadata": {
  "kernelspec": {
   "display_name": "Python 3",
   "language": "python",
   "name": "python3"
  },
  "language_info": {
   "codemirror_mode": {
    "name": "ipython",
    "version": 3
   },
   "file_extension": ".py",
   "mimetype": "text/x-python",
   "name": "python",
   "nbconvert_exporter": "python",
   "pygments_lexer": "ipython3",
   "version": "3.7.3"
  }
 },
 "nbformat": 4,
 "nbformat_minor": 2
}
